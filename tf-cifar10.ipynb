{
 "cells": [
  {
   "cell_type": "markdown",
   "metadata": {
    "collapsed": true
   },
   "source": [
    "# Image Classification\n",
    "\n",
    "This project classifies images from the [CIFAR-10 dataset](https://www.cs.toronto.edu/~kriz/cifar.html).  The dataset consists of airplanes, dogs, cats, and other objects. We will preprocess the images, then train a convolutional neural network on all the samples. The images need to be normalized and the labels need to be one-hot encoded.\n",
    "\n",
    "We are building a convolutional, max pooling, dropout, and fully connected layers.  At the end, we get to see our neural network's predictions on the sample images.\n",
    "\n",
    "## Get the Data\n",
    "This following cell downloads the [CIFAR-10 dataset for python](https://www.cs.toronto.edu/~kriz/cifar-10-python.tar.gz)."
   ]
  },
  {
   "cell_type": "code",
   "execution_count": 1,
   "metadata": {
    "collapsed": false
   },
   "outputs": [
    {
     "name": "stdout",
     "output_type": "stream",
     "text": [
      "All files found!\n"
     ]
    }
   ],
   "source": [
    "from urllib.request import urlretrieve\n",
    "from os.path import isfile, isdir\n",
    "from tqdm import tqdm\n",
    "import problem_unittests as tests\n",
    "import tarfile\n",
    "\n",
    "cifar10_dataset_folder_path = 'cifar-10-batches-py'\n",
    "\n",
    "class DLProgress(tqdm):\n",
    "    last_block = 0\n",
    "\n",
    "    def hook(self, block_num=1, block_size=1, total_size=None):\n",
    "        self.total = total_size\n",
    "        self.update((block_num - self.last_block) * block_size)\n",
    "        self.last_block = block_num\n",
    "\n",
    "if not isfile('cifar-10-python.tar.gz'):\n",
    "    with DLProgress(unit='B', unit_scale=True, miniters=1, desc='CIFAR-10 Dataset') as pbar:\n",
    "        urlretrieve(\n",
    "            'https://www.cs.toronto.edu/~kriz/cifar-10-python.tar.gz',\n",
    "            'cifar-10-python.tar.gz',\n",
    "            pbar.hook)\n",
    "\n",
    "if not isdir(cifar10_dataset_folder_path):\n",
    "    with tarfile.open('cifar-10-python.tar.gz') as tar:\n",
    "        tar.extractall()\n",
    "        tar.close()\n",
    "\n",
    "\n",
    "tests.test_folder_path(cifar10_dataset_folder_path)"
   ]
  },
  {
   "cell_type": "markdown",
   "metadata": {},
   "source": [
    "## Explore the Data\n",
    "\n",
    "The dataset is broken into batches to prevent our machine from running out of memory.  The CIFAR-10 dataset consists of 5 batches, named `data_batch_1`, `data_batch_2`, etc.. Each batch contains the labels and images that are one of the following:\n",
    "* airplane\n",
    "* automobile\n",
    "* bird\n",
    "* cat\n",
    "* deer\n",
    "* dog\n",
    "* frog\n",
    "* horse\n",
    "* ship\n",
    "* truck\n",
    "\n",
    "Understanding a dataset is part of making predictions on the data.  Play around with the code cell below by changing the `batch_id` and `sample_id`. The `batch_id` is the id for a batch (1-5). The `sample_id` is the id for a image and label pair in the batch.\n"
   ]
  },
  {
   "cell_type": "code",
   "execution_count": 2,
   "metadata": {
    "collapsed": false
   },
   "outputs": [
    {
     "name": "stdout",
     "output_type": "stream",
     "text": [
      "\n",
      "Stats of batch 1:\n",
      "Samples: 10000\n",
      "Label Counts: {0: 1005, 1: 974, 2: 1032, 3: 1016, 4: 999, 5: 937, 6: 1030, 7: 1001, 8: 1025, 9: 981}\n",
      "First 20 Labels: [6, 9, 9, 4, 1, 1, 2, 7, 8, 3, 4, 7, 7, 2, 9, 9, 9, 3, 2, 6]\n",
      "\n",
      "Example of Image 5:\n",
      "Image - Min Value: 0 Max Value: 252\n",
      "Image - Shape: (32, 32, 3)\n",
      "Label - Label Id: 1 Name: automobile\n"
     ]
    },
    {
     "data": {
      "image/png": "[encoded data removed]",
      "text/plain": [
       "<matplotlib.figure.Figure at 0x7f3bd112b6a0>"
      ]
     },
     "metadata": {
      "image/png": {
       "height": 250,
       "width": 253
      }
     },
     "output_type": "display_data"
    }
   ],
   "source": [
    "%matplotlib inline\n",
    "%config InlineBackend.figure_format = 'retina'\n",
    "\n",
    "import helper\n",
    "import numpy as np\n",
    "\n",
    "# Explore the dataset\n",
    "batch_id = 1\n",
    "sample_id = 5\n",
    "helper.display_stats(cifar10_dataset_folder_path, batch_id, sample_id)"
   ]
  },
  {
   "cell_type": "markdown",
   "metadata": {},
   "source": [
    "## Implement Preprocess Functions\n",
    "### Normalize\n",
    "\n",
    "The cell below has `normalize` function to take in image data, `x`, and return it as a normalized Numpy array. The values should be in the range of 0 to 1, inclusive.  The return object should be the same shape as `x`."
   ]
  },
  {
   "cell_type": "code",
   "execution_count": 3,
   "metadata": {
    "collapsed": false
   },
   "outputs": [
    {
     "name": "stdout",
     "output_type": "stream",
     "text": [
      "Tests Passed\n"
     ]
    }
   ],
   "source": [
    "def normalize(x):\n",
    "    \"\"\"\n",
    "    Normalize a list of sample image data in the range of 0 to 1\n",
    "    : x: List of image data.  The image shape is (32, 32, 3)\n",
    "    : return: Numpy array of normalize data\n",
    "    \"\"\"\n",
    "    x = x.astype('float32')\n",
    "    x /= 255.0\n",
    "    return x\n",
    "\n",
    "\n",
    "tests.test_normalize(normalize)"
   ]
  },
  {
   "cell_type": "markdown",
   "metadata": {},
   "source": [
    "### One-hot encode\n",
    "\n",
    "The input, `x`, are a list of labels.  The function returns the list of labels as One-Hot encoded Numpy array.  The possible values for labels are 0 to 9. The one-hot encoding function should return the same encoding for each value between each call to `one_hot_encode`.\n"
   ]
  },
  {
   "cell_type": "code",
   "execution_count": 4,
   "metadata": {
    "collapsed": false
   },
   "outputs": [
    {
     "name": "stdout",
     "output_type": "stream",
     "text": [
      "Tests Passed\n"
     ]
    }
   ],
   "source": [
    "def one_hot_encode(x):\n",
    "    \"\"\"\n",
    "    One hot encode a list of sample labels. Return a one-hot encoded vector for each label.\n",
    "    : x: List of sample Labels\n",
    "    : return: Numpy array of one-hot encoded labels\n",
    "    \"\"\"\n",
    "    n_labels = 10\n",
    "    return np.eye(n_labels)[x]\n",
    "\n",
    "\n",
    "tests.test_one_hot_encode(one_hot_encode)"
   ]
  },
  {
   "cell_type": "markdown",
   "metadata": {},
   "source": [
    "## Preprocess all the data and save it\n",
    "Running the code cell below will preprocess all the CIFAR-10 data and save it to file. The code below also uses 10% of the training data for validation."
   ]
  },
  {
   "cell_type": "code",
   "execution_count": 5,
   "metadata": {
    "collapsed": false
   },
   "outputs": [],
   "source": [
    "# Preprocess Training, Validation, and Testing Data\n",
    "helper.preprocess_and_save_data(cifar10_dataset_folder_path, normalize, one_hot_encode)"
   ]
  },
  {
   "cell_type": "markdown",
   "metadata": {},
   "source": [
    "# Check Point\n",
    "\n",
    "This is our first checkpoint.  If we ever decide to come back to this notebook or have to restart the notebook, we can start from here.  The preprocessed data has been saved to disk."
   ]
  },
  {
   "cell_type": "code",
   "execution_count": 6,
   "metadata": {
    "collapsed": true
   },
   "outputs": [],
   "source": [
    "import pickle\n",
    "import problem_unittests as tests\n",
    "import helper\n",
    "\n",
    "# Load the Preprocessed Validation data\n",
    "valid_features, valid_labels = pickle.load(open('preprocess_validation.p', mode='rb'))"
   ]
  },
  {
   "cell_type": "markdown",
   "metadata": {},
   "source": [
    "## Build the network\n",
    "\n",
    "### Input\n",
    "The neural network needs to read the image data, one-hot encoded labels, and dropout keep probability.\n"
   ]
  },
  {
   "cell_type": "code",
   "execution_count": 7,
   "metadata": {
    "collapsed": false
   },
   "outputs": [
    {
     "name": "stdout",
     "output_type": "stream",
     "text": [
      "Image Input Tests Passed.\n",
      "Label Input Tests Passed.\n",
      "Keep Prob Tests Passed.\n"
     ]
    }
   ],
   "source": [
    "import tensorflow as tf\n",
    "\n",
    "def neural_net_image_input(image_shape):\n",
    "    \"\"\"\n",
    "    Return a Tensor for a bach of image input\n",
    "    : image_shape: Shape of the images\n",
    "    : return: Tensor for image input.\n",
    "    \"\"\"\n",
    "\n",
    "    return tf.placeholder(tf.float32, shape = [None, *image_shape], name = \"x\")\n",
    "\n",
    "\n",
    "def neural_net_label_input(n_classes):\n",
    "    \"\"\"\n",
    "    Return a Tensor for a batch of label input\n",
    "    : n_classes: Number of classes\n",
    "    : return: Tensor for label input.\n",
    "    \"\"\"\n",
    "\n",
    "    return tf.placeholder(tf.float32, [None, n_classes], name = \"y\")\n",
    "\n",
    "\n",
    "def neural_net_keep_prob_input():\n",
    "    \"\"\"\n",
    "    Return a Tensor for keep probability\n",
    "    : return: Tensor for keep probability.\n",
    "    \"\"\"\n",
    "\n",
    "    return tf.placeholder(tf.float32, name = \"keep_prob\")\n",
    "\n",
    "\n",
    "\n",
    "tf.reset_default_graph()\n",
    "tests.test_nn_image_inputs(neural_net_image_input)\n",
    "tests.test_nn_label_inputs(neural_net_label_input)\n",
    "tests.test_nn_keep_prob_inputs(neural_net_keep_prob_input)"
   ]
  },
  {
   "cell_type": "markdown",
   "metadata": {},
   "source": [
    "### Convolution and Max Pooling Layer\n"
   ]
  },
  {
   "cell_type": "code",
   "execution_count": 8,
   "metadata": {
    "collapsed": false,
    "scrolled": false
   },
   "outputs": [
    {
     "name": "stdout",
     "output_type": "stream",
     "text": [
      "Tests Passed\n"
     ]
    }
   ],
   "source": [
    "def conv2d_maxpool(x_tensor, conv_num_outputs, conv_ksize, conv_strides, pool_ksize, pool_strides):\n",
    "    \"\"\"\n",
    "    Apply convolution then max pooling to x_tensor\n",
    "    :param x_tensor: TensorFlow Tensor\n",
    "    :param conv_num_outputs: Number of outputs for the convolutional layer\n",
    "    :param conv_strides: Stride 2-D Tuple for convolution\n",
    "    :param pool_ksize: kernal size 2-D Tuple for pool\n",
    "    :param pool_strides: Stride 2-D Tuple for pool\n",
    "    : return: A tensor that represents convolution and max pooling of x_tensor\n",
    "    \"\"\"\n",
    "    weights = tf.Variable(tf.truncated_normal([*conv_ksize, x_tensor.get_shape().as_list()[-1], conv_num_outputs]\n",
    "                                             , stddev=.1), dtype=tf.float32)\n",
    "                          \n",
    "                          \n",
    "    bias = tf.Variable(tf.random_normal(shape=[conv_num_outputs]))\n",
    "\n",
    "    layer = tf.nn.conv2d(input=x_tensor, filter=weights, strides=[1, *conv_strides, 1], padding='SAME')\n",
    "    layer = tf.nn.bias_add(layer, bias)\n",
    "\n",
    "    layer = tf.nn.relu(layer)\n",
    "    layer = tf.nn.max_pool(layer, ksize=[1, pool_ksize[0], pool_ksize[1], 1]\n",
    "                           , strides=[1, pool_strides[0], pool_strides[1], 1], padding='SAME')\n",
    "\n",
    "    return layer\n",
    "\n",
    "\n",
    "tests.test_con_pool(conv2d_maxpool)\n"
   ]
  },
  {
   "cell_type": "markdown",
   "metadata": {},
   "source": [
    "### Flatten Layer\n"
   ]
  },
  {
   "cell_type": "code",
   "execution_count": 9,
   "metadata": {
    "collapsed": false
   },
   "outputs": [
    {
     "name": "stdout",
     "output_type": "stream",
     "text": [
      "Tests Passed\n"
     ]
    }
   ],
   "source": [
    "def flatten(x_tensor):\n",
    "    \"\"\"\n",
    "    Flatten x_tensor to (Batch Size, Flattened Image Size)\n",
    "    : x_tensor: A tensor of size (Batch Size, ...), where ... are the image dimensions.\n",
    "    : return: A tensor of size (Batch Size, Flattened Image Size).\n",
    "    \"\"\"\n",
    "\n",
    "    return tf.contrib.layers.flatten(x_tensor)\n",
    "\n",
    "\n",
    "tests.test_flatten(flatten)"
   ]
  },
  {
   "cell_type": "markdown",
   "metadata": {},
   "source": [
    "### Fully-Connected Layer\n"
   ]
  },
  {
   "cell_type": "code",
   "execution_count": 10,
   "metadata": {
    "collapsed": false
   },
   "outputs": [
    {
     "name": "stdout",
     "output_type": "stream",
     "text": [
      "Tests Passed\n"
     ]
    }
   ],
   "source": [
    "def fully_conn(x_tensor, num_outputs):\n",
    "    \"\"\"\n",
    "    Apply a fully connected layer to x_tensor using weight and bias\n",
    "    : x_tensor: A 2-D tensor where the first dimension is batch size.\n",
    "    : num_outputs: The number of output that the new tensor should be.\n",
    "    : return: A 2-D tensor where the second dimension is num_outputs.\n",
    "    \"\"\"  \n",
    "    fully_weight = tf.Variable(tf.truncated_normal(shape=[num_outputs, num_outputs], stddev=0.1), dtype=tf.float32)\n",
    "    fully_bias = tf.Variable(tf.random_normal(shape=[num_outputs]))\n",
    "\n",
    "    fully_layer = tf.contrib.layers.fully_connected(x_tensor, num_outputs)\n",
    "    fully_layer = tf.add(tf.matmul(fully_layer, fully_weight), fully_bias)\n",
    "\n",
    "    fully_layer = tf.nn.relu(fully_layer)\n",
    "    return fully_layer\n",
    "\n",
    "\n",
    "tests.test_fully_conn(fully_conn)"
   ]
  },
  {
   "cell_type": "markdown",
   "metadata": {},
   "source": [
    "### Output Layer\n"
   ]
  },
  {
   "cell_type": "code",
   "execution_count": 11,
   "metadata": {
    "collapsed": false
   },
   "outputs": [
    {
     "name": "stdout",
     "output_type": "stream",
     "text": [
      "Tests Passed\n"
     ]
    }
   ],
   "source": [
    "def output(x_tensor, num_outputs):\n",
    "    \"\"\"\n",
    "    Apply a output layer to x_tensor using weight and bias\n",
    "    : x_tensor: A 2-D tensor where the first dimension is batch size.\n",
    "    : num_outputs: The number of output that the new tensor should be.\n",
    "    : return: A 2-D tensor where the second dimension is num_outputs.\n",
    "    \"\"\"\n",
    "    out_weight = tf.Variable(tf.truncated_normal(shape=[num_outputs, num_outputs], stddev=0.1), dtype=tf.float32)\n",
    "    out_bias = tf.Variable(tf.random_normal(shape=[num_outputs]))\n",
    "    out_layer = tf.contrib.layers.fully_connected(x_tensor, num_outputs)\n",
    "    out_layer = tf.add(tf.matmul(out_layer, out_weight), out_bias)\n",
    "\n",
    "    return out_layer\n",
    "\n",
    "\n",
    "tests.test_output(output)"
   ]
  },
  {
   "cell_type": "markdown",
   "metadata": {},
   "source": [
    "### Create Convolutional Model\n"
   ]
  },
  {
   "cell_type": "code",
   "execution_count": 12,
   "metadata": {
    "collapsed": false
   },
   "outputs": [
    {
     "name": "stdout",
     "output_type": "stream",
     "text": [
      "Neural Network Built!\n"
     ]
    }
   ],
   "source": [
    "def conv_net(x, keep_prob):\n",
    "\n",
    "    x_tensor = x\n",
    "\n",
    "    conv_num_outputs1 = 32\n",
    "    conv_num_outputs2 = 128\n",
    "\n",
    "    conv_ksize = (4,4)\n",
    "    conv_strides = (2,2)\n",
    "    pool_ksize = (2,2)\n",
    "    pool_strides = (2,2)\n",
    "\n",
    "    conv = conv2d_maxpool (x_tensor, conv_num_outputs1, conv_ksize, conv_strides, pool_ksize, pool_strides)\n",
    "    conv = conv2d_maxpool (conv, conv_num_outputs2, conv_ksize, conv_strides, pool_ksize, pool_strides)\n",
    "    conv = tf.nn.dropout (conv, tf.to_float(keep_prob))\n",
    "    flat = flatten(conv)\n",
    "\n",
    "    fc = fully_conn(flat, 300)\n",
    "    fc = fully_conn(fc, 100)\n",
    "\n",
    "    output_data = output(fc, 10)\n",
    "\n",
    "    return output_data\n",
    "\n",
    "\n",
    "\n",
    "##############################\n",
    "## Build the Neural Network ##\n",
    "##############################\n",
    "\n",
    "# Remove previous weights, bias, inputs, etc..\n",
    "tf.reset_default_graph()\n",
    "\n",
    "# Inputs\n",
    "x = neural_net_image_input((32, 32, 3))\n",
    "y = neural_net_label_input(10)\n",
    "keep_prob = neural_net_keep_prob_input()\n",
    "\n",
    "# Model\n",
    "logits = conv_net(x, keep_prob)\n",
    "\n",
    "# Name logits Tensor, so that is can be loaded from disk after training\n",
    "logits = tf.identity(logits, name='logits')\n",
    "\n",
    "# Loss and Optimizer\n",
    "cost = tf.reduce_mean(tf.nn.softmax_cross_entropy_with_logits(logits=logits, labels=y))\n",
    "optimizer = tf.train.AdamOptimizer().minimize(cost)\n",
    "\n",
    "# Accuracy\n",
    "correct_pred = tf.equal(tf.argmax(logits, 1), tf.argmax(y, 1))\n",
    "accuracy = tf.reduce_mean(tf.cast(correct_pred, tf.float32), name='accuracy')\n",
    "\n",
    "tests.test_conv_net(conv_net)"
   ]
  },
  {
   "cell_type": "markdown",
   "metadata": {},
   "source": [
    "## Train the Neural Network\n",
    "### Single Optimization\n",
    "Implement the function `train_neural_network` to do a single optimization.  The optimization should use `optimizer` to optimize in `session` with a `feed_dict` of the following:\n",
    "* `x` for image input\n",
    "* `y` for labels\n",
    "* `keep_prob` for keep probability for dropout\n",
    "\n",
    "This function will be called for each batch, so `tf.global_variables_initializer()` has already been called.\n",
    "\n",
    "Note: Nothing needs to be returned. This function is only optimizing the neural network."
   ]
  },
  {
   "cell_type": "code",
   "execution_count": 13,
   "metadata": {
    "collapsed": false
   },
   "outputs": [
    {
     "name": "stdout",
     "output_type": "stream",
     "text": [
      "Tests Passed\n"
     ]
    }
   ],
   "source": [
    "def train_neural_network(session, optimizer, keep_probability, feature_batch, label_batch):\n",
    "    \"\"\"\n",
    "    Optimize the session on a batch of images and labels\n",
    "    : session: Current TensorFlow session\n",
    "    : optimizer: TensorFlow optimizer function\n",
    "    : keep_probability: keep probability\n",
    "    : feature_batch: Batch of Numpy image data\n",
    "    : label_batch: Batch of Numpy label data\n",
    "    \"\"\"\n",
    "\n",
    "    session.run(optimizer, feed_dict={x: feature_batch, y: label_batch, keep_prob: keep_probability})\n",
    "\n",
    "\n",
    "\n",
    "tests.test_train_nn(train_neural_network)"
   ]
  },
  {
   "cell_type": "markdown",
   "metadata": {},
   "source": [
    "### Show Stats\n",
    "Implement the function `print_stats` to print loss and validation accuracy.  Use the global variables `valid_features` and `valid_labels` to calculate validation accuracy.  Use a keep probability of `1.0` to calculate the loss and validation accuracy."
   ]
  },
  {
   "cell_type": "code",
   "execution_count": 14,
   "metadata": {
    "collapsed": true
   },
   "outputs": [],
   "source": [
    "def print_stats(session, feature_batch, label_batch, cost, accuracy):\n",
    "    \n",
    "    loss = session.run(cost, feed_dict={x: feature_batch, y: label_batch, keep_prob: 1.0})\n",
    "    accuracy = session.run(accuracy, feed_dict={x: valid_features, y: valid_labels, keep_prob: 1.0})\n",
    "    print(\"Loss: {}\".format(loss))\n",
    "    print(\"Accuracy: {}\".format(accuracy))"
   ]
  },
  {
   "cell_type": "markdown",
   "metadata": {},
   "source": [
    "### Hyperparameters\n",
    "Tune the following parameters:\n",
    "* Set `epochs` to the number of iterations until the network stops learning or start overfitting\n",
    "* Set `batch_size` to the highest number that your machine has memory for.  Most people set them to common sizes of memory:\n",
    " * 64\n",
    " * 128\n",
    " * 256\n",
    " * ...\n",
    "* Set `keep_probability` to the probability of keeping a node using dropout"
   ]
  },
  {
   "cell_type": "code",
   "execution_count": 15,
   "metadata": {
    "collapsed": true
   },
   "outputs": [],
   "source": [
    "# Tune Parameters\n",
    "epochs = 20\n",
    "batch_size = 512\n",
    "keep_probability = 0.5"
   ]
  },
  {
   "cell_type": "markdown",
   "metadata": {},
   "source": [
    "### Train on a Single CIFAR-10 Batch\n",
    "Instead of training the neural network on all the CIFAR-10 batches of data, let's use a single batch. This should save time while you iterate on the model to get a better accuracy.  Once the final validation accuracy is 50% or greater, run the model on all the data in the next section."
   ]
  },
  {
   "cell_type": "code",
   "execution_count": 16,
   "metadata": {
    "collapsed": false
   },
   "outputs": [
    {
     "name": "stdout",
     "output_type": "stream",
     "text": [
      "Checking the Training on a Single Batch...\n",
      "Epoch  1, CIFAR-10 Batch 1:  Loss: 2.5360023975372314\n",
      "Accuracy: 0.09780000150203705\n",
      "Epoch  2, CIFAR-10 Batch 1:  Loss: 2.3936915397644043\n",
      "Accuracy: 0.09700000286102295\n",
      "Epoch  3, CIFAR-10 Batch 1:  Loss: 2.2661309242248535\n",
      "Accuracy: 0.1404000073671341\n",
      "Epoch  4, CIFAR-10 Batch 1:  Loss: 2.1531789302825928\n",
      "Accuracy: 0.19740000367164612\n",
      "Epoch  5, CIFAR-10 Batch 1:  Loss: 2.0740301609039307\n",
      "Accuracy: 0.21799999475479126\n",
      "Epoch  6, CIFAR-10 Batch 1:  Loss: 2.0341796875\n",
      "Accuracy: 0.2529999911785126\n",
      "Epoch  7, CIFAR-10 Batch 1:  Loss: 1.9719724655151367\n",
      "Accuracy: 0.27059999108314514\n",
      "Epoch  8, CIFAR-10 Batch 1:  Loss: 1.9016364812850952\n",
      "Accuracy: 0.3059999942779541\n",
      "Epoch  9, CIFAR-10 Batch 1:  Loss: 1.8237948417663574\n",
      "Accuracy: 0.32820001244544983\n",
      "Epoch 10, CIFAR-10 Batch 1:  Loss: 1.7349445819854736\n",
      "Accuracy: 0.36500000953674316\n",
      "Epoch 11, CIFAR-10 Batch 1:  Loss: 1.6840333938598633\n",
      "Accuracy: 0.37779998779296875\n",
      "Epoch 12, CIFAR-10 Batch 1:  Loss: 1.6377285718917847\n",
      "Accuracy: 0.38999998569488525\n",
      "Epoch 13, CIFAR-10 Batch 1:  Loss: 1.6316629648208618\n",
      "Accuracy: 0.39079999923706055\n",
      "Epoch 14, CIFAR-10 Batch 1:  Loss: 1.5988987684249878\n",
      "Accuracy: 0.3937999904155731\n",
      "Epoch 15, CIFAR-10 Batch 1:  Loss: 1.5562207698822021\n",
      "Accuracy: 0.41760000586509705\n",
      "Epoch 16, CIFAR-10 Batch 1:  Loss: 1.5171071290969849\n",
      "Accuracy: 0.4302000105381012\n",
      "Epoch 17, CIFAR-10 Batch 1:  Loss: 1.4812469482421875\n",
      "Accuracy: 0.4359999895095825\n",
      "Epoch 18, CIFAR-10 Batch 1:  Loss: 1.4463419914245605\n",
      "Accuracy: 0.4537999927997589\n",
      "Epoch 19, CIFAR-10 Batch 1:  Loss: 1.4318063259124756\n",
      "Accuracy: 0.4528000056743622\n",
      "Epoch 20, CIFAR-10 Batch 1:  Loss: 1.4025635719299316\n",
      "Accuracy: 0.4641999900341034\n"
     ]
    }
   ],
   "source": [
    "print('Checking the Training on a Single Batch...')\n",
    "with tf.Session() as sess:\n",
    "    # Initializing the variables\n",
    "    sess.run(tf.global_variables_initializer())\n",
    "    \n",
    "    # Training cycle\n",
    "    for epoch in range(epochs):\n",
    "        batch_i = 1\n",
    "        for batch_features, batch_labels in helper.load_preprocess_training_batch(batch_i, batch_size):\n",
    "            train_neural_network(sess, optimizer, keep_probability, batch_features, batch_labels)\n",
    "        print('Epoch {:>2}, CIFAR-10 Batch {}:  '.format(epoch + 1, batch_i), end='')\n",
    "        print_stats(sess, batch_features, batch_labels, cost, accuracy)"
   ]
  },
  {
   "cell_type": "markdown",
   "metadata": {},
   "source": [
    "### Fully Train the Model\n",
    "Now that you got a good accuracy with a single CIFAR-10 batch, try it with all five batches."
   ]
  },
  {
   "cell_type": "code",
   "execution_count": 17,
   "metadata": {
    "collapsed": false,
    "scrolled": false
   },
   "outputs": [
    {
     "name": "stdout",
     "output_type": "stream",
     "text": [
      "Training...\n",
      "Epoch  1, CIFAR-10 Batch 1:  Loss: 2.3097984790802\n",
      "Accuracy: 0.10859999805688858\n",
      "Epoch  1, CIFAR-10 Batch 2:  Loss: 2.232724666595459\n",
      "Accuracy: 0.18479999899864197\n",
      "Epoch  1, CIFAR-10 Batch 3:  Loss: 2.1611266136169434\n",
      "Accuracy: 0.18639999628067017\n",
      "Epoch  1, CIFAR-10 Batch 4:  Loss: 2.0349221229553223\n",
      "Accuracy: 0.21480000019073486\n",
      "Epoch  1, CIFAR-10 Batch 5:  Loss: 2.0113320350646973\n",
      "Accuracy: 0.23160000145435333\n",
      "Epoch  2, CIFAR-10 Batch 1:  Loss: 2.0259499549865723\n",
      "Accuracy: 0.24639999866485596\n",
      "Epoch  2, CIFAR-10 Batch 2:  Loss: 1.926426887512207\n",
      "Accuracy: 0.2590000033378601\n",
      "Epoch  2, CIFAR-10 Batch 3:  Loss: 1.8590248823165894\n",
      "Accuracy: 0.2669999897480011\n",
      "Epoch  2, CIFAR-10 Batch 4:  Loss: 1.8332762718200684\n",
      "Accuracy: 0.29319998621940613\n",
      "Epoch  2, CIFAR-10 Batch 5:  Loss: 1.8567968606948853\n",
      "Accuracy: 0.29499998688697815\n",
      "Epoch  3, CIFAR-10 Batch 1:  Loss: 1.8941740989685059\n",
      "Accuracy: 0.31459999084472656\n",
      "Epoch  3, CIFAR-10 Batch 2:  Loss: 1.8176320791244507\n",
      "Accuracy: 0.2921999990940094\n",
      "Epoch  3, CIFAR-10 Batch 3:  Loss: 1.5900239944458008\n",
      "Accuracy: 0.32580000162124634\n",
      "Epoch  3, CIFAR-10 Batch 4:  Loss: 1.6489609479904175\n",
      "Accuracy: 0.3546000123023987\n",
      "Epoch  3, CIFAR-10 Batch 5:  Loss: 1.7055026292800903\n",
      "Accuracy: 0.34139999747276306\n",
      "Epoch  4, CIFAR-10 Batch 1:  Loss: 1.751758098602295\n",
      "Accuracy: 0.3930000066757202\n",
      "Epoch  4, CIFAR-10 Batch 2:  Loss: 1.6716798543930054\n",
      "Accuracy: 0.38920000195503235\n",
      "Epoch  4, CIFAR-10 Batch 3:  Loss: 1.4711740016937256\n",
      "Accuracy: 0.4020000100135803\n",
      "Epoch  4, CIFAR-10 Batch 4:  Loss: 1.5053821802139282\n",
      "Accuracy: 0.41999998688697815\n",
      "Epoch  4, CIFAR-10 Batch 5:  Loss: 1.5432807207107544\n",
      "Accuracy: 0.4138000011444092\n",
      "Epoch  5, CIFAR-10 Batch 1:  Loss: 1.6516669988632202\n",
      "Accuracy: 0.4381999969482422\n",
      "Epoch  5, CIFAR-10 Batch 2:  Loss: 1.5331737995147705\n",
      "Accuracy: 0.43799999356269836\n",
      "Epoch  5, CIFAR-10 Batch 3:  Loss: 1.3776568174362183\n",
      "Accuracy: 0.4284000098705292\n",
      "Epoch  5, CIFAR-10 Batch 4:  Loss: 1.3907909393310547\n",
      "Accuracy: 0.4535999894142151\n",
      "Epoch  5, CIFAR-10 Batch 5:  Loss: 1.457890272140503\n",
      "Accuracy: 0.43619999289512634\n",
      "Epoch  6, CIFAR-10 Batch 1:  Loss: 1.571777105331421\n",
      "Accuracy: 0.46880000829696655\n",
      "Epoch  6, CIFAR-10 Batch 2:  Loss: 1.457610011100769\n",
      "Accuracy: 0.47519999742507935\n",
      "Epoch  6, CIFAR-10 Batch 3:  Loss: 1.3011138439178467\n",
      "Accuracy: 0.4503999948501587\n",
      "Epoch  6, CIFAR-10 Batch 4:  Loss: 1.3202311992645264\n",
      "Accuracy: 0.47519999742507935\n",
      "Epoch  6, CIFAR-10 Batch 5:  Loss: 1.3758147954940796\n",
      "Accuracy: 0.4779999852180481\n",
      "Epoch  7, CIFAR-10 Batch 1:  Loss: 1.5176334381103516\n",
      "Accuracy: 0.48100000619888306\n",
      "Epoch  7, CIFAR-10 Batch 2:  Loss: 1.4120670557022095\n",
      "Accuracy: 0.487199991941452\n",
      "Epoch  7, CIFAR-10 Batch 3:  Loss: 1.243847370147705\n",
      "Accuracy: 0.46860000491142273\n",
      "Epoch  7, CIFAR-10 Batch 4:  Loss: 1.2884348630905151\n",
      "Accuracy: 0.47780001163482666\n",
      "Epoch  7, CIFAR-10 Batch 5:  Loss: 1.3438754081726074\n",
      "Accuracy: 0.4878000020980835\n",
      "Epoch  8, CIFAR-10 Batch 1:  Loss: 1.4506406784057617\n",
      "Accuracy: 0.4943999946117401\n",
      "Epoch  8, CIFAR-10 Batch 2:  Loss: 1.3510397672653198\n",
      "Accuracy: 0.4986000061035156\n",
      "Epoch  8, CIFAR-10 Batch 3:  Loss: 1.2437169551849365\n",
      "Accuracy: 0.4740000069141388\n",
      "Epoch  8, CIFAR-10 Batch 4:  Loss: 1.222014307975769\n",
      "Accuracy: 0.4959999918937683\n",
      "Epoch  8, CIFAR-10 Batch 5:  Loss: 1.2971593141555786\n",
      "Accuracy: 0.49959999322891235\n",
      "Epoch  9, CIFAR-10 Batch 1:  Loss: 1.3906145095825195\n",
      "Accuracy: 0.5077999830245972\n",
      "Epoch  9, CIFAR-10 Batch 2:  Loss: 1.3386799097061157\n",
      "Accuracy: 0.4970000088214874\n",
      "Epoch  9, CIFAR-10 Batch 3:  Loss: 1.1835904121398926\n",
      "Accuracy: 0.49160000681877136\n",
      "Epoch  9, CIFAR-10 Batch 4:  Loss: 1.1808650493621826\n",
      "Accuracy: 0.5077999830245972\n",
      "Epoch  9, CIFAR-10 Batch 5:  Loss: 1.2350994348526\n",
      "Accuracy: 0.5138000249862671\n",
      "Epoch 10, CIFAR-10 Batch 1:  Loss: 1.3683292865753174\n",
      "Accuracy: 0.5131999850273132\n",
      "Epoch 10, CIFAR-10 Batch 2:  Loss: 1.2674717903137207\n",
      "Accuracy: 0.5203999876976013\n",
      "Epoch 10, CIFAR-10 Batch 3:  Loss: 1.1607391834259033\n",
      "Accuracy: 0.5040000081062317\n",
      "Epoch 10, CIFAR-10 Batch 4:  Loss: 1.164345145225525\n",
      "Accuracy: 0.5230000019073486\n",
      "Epoch 10, CIFAR-10 Batch 5:  Loss: 1.2186768054962158\n",
      "Accuracy: 0.5239999890327454\n",
      "Epoch 11, CIFAR-10 Batch 1:  Loss: 1.3154003620147705\n",
      "Accuracy: 0.5185999870300293\n",
      "Epoch 11, CIFAR-10 Batch 2:  Loss: 1.2483916282653809\n",
      "Accuracy: 0.52920001745224\n",
      "Epoch 11, CIFAR-10 Batch 3:  Loss: 1.1182180643081665\n",
      "Accuracy: 0.5148000121116638\n",
      "Epoch 11, CIFAR-10 Batch 4:  Loss: 1.1066356897354126\n",
      "Accuracy: 0.5296000242233276\n",
      "Epoch 11, CIFAR-10 Batch 5:  Loss: 1.1744953393936157\n",
      "Accuracy: 0.531000018119812\n",
      "Epoch 12, CIFAR-10 Batch 1:  Loss: 1.2773219347000122\n",
      "Accuracy: 0.5419999957084656\n",
      "Epoch 12, CIFAR-10 Batch 2:  Loss: 1.2078845500946045\n",
      "Accuracy: 0.5418000221252441\n",
      "Epoch 12, CIFAR-10 Batch 3:  Loss: 1.092179536819458\n",
      "Accuracy: 0.5221999883651733\n",
      "Epoch 12, CIFAR-10 Batch 4:  Loss: 1.093936562538147\n",
      "Accuracy: 0.5368000268936157\n",
      "Epoch 12, CIFAR-10 Batch 5:  Loss: 1.14866042137146\n",
      "Accuracy: 0.5436000227928162\n",
      "Epoch 13, CIFAR-10 Batch 1:  Loss: 1.2516672611236572\n",
      "Accuracy: 0.5440000295639038\n",
      "Epoch 13, CIFAR-10 Batch 2:  Loss: 1.1787678003311157\n",
      "Accuracy: 0.5460000038146973\n",
      "Epoch 13, CIFAR-10 Batch 3:  Loss: 1.0848807096481323\n",
      "Accuracy: 0.5297999978065491\n",
      "Epoch 13, CIFAR-10 Batch 4:  Loss: 1.0743184089660645\n",
      "Accuracy: 0.5407999753952026\n",
      "Epoch 13, CIFAR-10 Batch 5:  Loss: 1.1297938823699951\n",
      "Accuracy: 0.5482000112533569\n",
      "Epoch 14, CIFAR-10 Batch 1:  Loss: 1.2220430374145508\n",
      "Accuracy: 0.5514000058174133\n",
      "Epoch 14, CIFAR-10 Batch 2:  Loss: 1.1425026655197144\n",
      "Accuracy: 0.5540000200271606\n",
      "Epoch 14, CIFAR-10 Batch 3:  Loss: 1.0719208717346191\n",
      "Accuracy: 0.532800018787384\n",
      "Epoch 14, CIFAR-10 Batch 4:  Loss: 1.0338423252105713\n",
      "Accuracy: 0.5559999942779541\n",
      "Epoch 14, CIFAR-10 Batch 5:  Loss: 1.091483473777771\n",
      "Accuracy: 0.5529999732971191\n",
      "Epoch 15, CIFAR-10 Batch 1:  Loss: 1.1933786869049072\n",
      "Accuracy: 0.5546000003814697\n",
      "Epoch 15, CIFAR-10 Batch 2:  Loss: 1.1009083986282349\n",
      "Accuracy: 0.5598000288009644\n",
      "Epoch 15, CIFAR-10 Batch 3:  Loss: 1.0290088653564453\n",
      "Accuracy: 0.5450000166893005\n",
      "Epoch 15, CIFAR-10 Batch 4:  Loss: 1.013710379600525\n",
      "Accuracy: 0.5546000003814697\n",
      "Epoch 15, CIFAR-10 Batch 5:  Loss: 1.054376244544983\n",
      "Accuracy: 0.5631999969482422\n",
      "Epoch 16, CIFAR-10 Batch 1:  Loss: 1.1765934228897095\n",
      "Accuracy: 0.5464000105857849\n",
      "Epoch 16, CIFAR-10 Batch 2:  Loss: 1.1120203733444214\n",
      "Accuracy: 0.5501999855041504\n",
      "Epoch 16, CIFAR-10 Batch 3:  Loss: 1.0140577554702759\n",
      "Accuracy: 0.5583999752998352\n",
      "Epoch 16, CIFAR-10 Batch 4:  Loss: 0.9895640015602112\n",
      "Accuracy: 0.5622000098228455\n",
      "Epoch 16, CIFAR-10 Batch 5:  Loss: 1.0496020317077637\n",
      "Accuracy: 0.5564000010490417\n",
      "Epoch 17, CIFAR-10 Batch 1:  Loss: 1.1229426860809326\n",
      "Accuracy: 0.5703999996185303\n",
      "Epoch 17, CIFAR-10 Batch 2:  Loss: 1.0720267295837402\n",
      "Accuracy: 0.5562000274658203\n",
      "Epoch 17, CIFAR-10 Batch 3:  Loss: 1.0008882284164429\n",
      "Accuracy: 0.5641999840736389\n",
      "Epoch 17, CIFAR-10 Batch 4:  Loss: 0.9762086868286133\n",
      "Accuracy: 0.5708000063896179\n",
      "Epoch 17, CIFAR-10 Batch 5:  Loss: 1.0114456415176392\n",
      "Accuracy: 0.5685999989509583\n",
      "Epoch 18, CIFAR-10 Batch 1:  Loss: 1.1023008823394775\n",
      "Accuracy: 0.5716000199317932\n",
      "Epoch 18, CIFAR-10 Batch 2:  Loss: 1.053881049156189\n",
      "Accuracy: 0.5546000003814697\n",
      "Epoch 18, CIFAR-10 Batch 3:  Loss: 0.9939419627189636\n",
      "Accuracy: 0.5648000240325928\n",
      "Epoch 18, CIFAR-10 Batch 4:  Loss: 0.9340399503707886\n",
      "Accuracy: 0.5741999745368958\n",
      "Epoch 18, CIFAR-10 Batch 5:  Loss: 0.980854868888855\n",
      "Accuracy: 0.5741999745368958\n",
      "Epoch 19, CIFAR-10 Batch 1:  Loss: 1.0734318494796753\n",
      "Accuracy: 0.5758000016212463\n",
      "Epoch 19, CIFAR-10 Batch 2:  Loss: 1.0356556177139282\n",
      "Accuracy: 0.5641999840736389\n",
      "Epoch 19, CIFAR-10 Batch 3:  Loss: 0.9350767135620117\n",
      "Accuracy: 0.5813999772071838\n",
      "Epoch 19, CIFAR-10 Batch 4:  Loss: 0.9265642166137695\n",
      "Accuracy: 0.5745999813079834\n",
      "Epoch 19, CIFAR-10 Batch 5:  Loss: 0.9944478869438171\n",
      "Accuracy: 0.5705999732017517\n",
      "Epoch 20, CIFAR-10 Batch 1:  Loss: 1.0532797574996948\n",
      "Accuracy: 0.5839999914169312\n",
      "Epoch 20, CIFAR-10 Batch 2:  Loss: 1.0208696126937866\n",
      "Accuracy: 0.555400013923645\n",
      "Epoch 20, CIFAR-10 Batch 3:  Loss: 0.9445005059242249\n",
      "Accuracy: 0.5717999935150146\n",
      "Epoch 20, CIFAR-10 Batch 4:  Loss: 0.9017637372016907\n",
      "Accuracy: 0.5827999711036682\n",
      "Epoch 20, CIFAR-10 Batch 5:  Loss: 0.9482656121253967\n",
      "Accuracy: 0.5842000246047974\n"
     ]
    }
   ],
   "source": [
    "save_model_path = './image_classification'\n",
    "\n",
    "print('Training...')\n",
    "with tf.Session() as sess:\n",
    "    # Initializing the variables\n",
    "    sess.run(tf.global_variables_initializer())\n",
    "    \n",
    "    # Training cycle\n",
    "    for epoch in range(epochs):\n",
    "        # Loop over all batches\n",
    "        n_batches = 5\n",
    "        for batch_i in range(1, n_batches + 1):\n",
    "            for batch_features, batch_labels in helper.load_preprocess_training_batch(batch_i, batch_size):\n",
    "                train_neural_network(sess, optimizer, keep_probability, batch_features, batch_labels)\n",
    "            print('Epoch {:>2}, CIFAR-10 Batch {}:  '.format(epoch + 1, batch_i), end='')\n",
    "            print_stats(sess, batch_features, batch_labels, cost, accuracy)\n",
    "            \n",
    "    # Save Model\n",
    "    saver = tf.train.Saver()\n",
    "    save_path = saver.save(sess, save_model_path)"
   ]
  },
  {
   "cell_type": "markdown",
   "metadata": {},
   "source": [
    "# Checkpoint\n",
    "The model has been saved to disk.\n",
    "## Test Model\n",
    "Test your model against the test dataset.  This will be your final accuracy. You should have an accuracy greater than 50%. If you don't, keep tweaking the model architecture and parameters."
   ]
  },
  {
   "cell_type": "code",
   "execution_count": 18,
   "metadata": {
    "collapsed": false,
    "scrolled": false
   },
   "outputs": [
    {
     "name": "stdout",
     "output_type": "stream",
     "text": [
      "Testing Accuracy: 0.5833295047283172\n",
      "\n"
     ]
    },
    {
     "data": {
      "image/png": "[encoded data removed]",
      "text/plain": [
       "<matplotlib.figure.Figure at 0x7f3ba46902e8>"
      ]
     },
     "metadata": {
      "image/png": {
       "height": 319,
       "width": 355
      }
     },
     "output_type": "display_data"
    }
   ],
   "source": [
    "%matplotlib inline\n",
    "%config InlineBackend.figure_format = 'retina'\n",
    "\n",
    "import tensorflow as tf\n",
    "import pickle\n",
    "import helper\n",
    "import random\n",
    "\n",
    "# Set batch size if not already set\n",
    "try:\n",
    "    if batch_size:\n",
    "        pass\n",
    "except NameError:\n",
    "    batch_size = 64\n",
    "\n",
    "save_model_path = './image_classification'\n",
    "n_samples = 4\n",
    "top_n_predictions = 3\n",
    "\n",
    "def test_model():\n",
    "    \"\"\"\n",
    "    Test the saved model against the test dataset\n",
    "    \"\"\"\n",
    "\n",
    "    test_features, test_labels = pickle.load(open('preprocess_training.p', mode='rb'))\n",
    "    loaded_graph = tf.Graph()\n",
    "\n",
    "    with tf.Session(graph=loaded_graph) as sess:\n",
    "        # Load model\n",
    "        loader = tf.train.import_meta_graph(save_model_path + '.meta')\n",
    "        loader.restore(sess, save_model_path)\n",
    "\n",
    "        # Get Tensors from loaded model\n",
    "        loaded_x = loaded_graph.get_tensor_by_name('x:0')\n",
    "        loaded_y = loaded_graph.get_tensor_by_name('y:0')\n",
    "        loaded_keep_prob = loaded_graph.get_tensor_by_name('keep_prob:0')\n",
    "        loaded_logits = loaded_graph.get_tensor_by_name('logits:0')\n",
    "        loaded_acc = loaded_graph.get_tensor_by_name('accuracy:0')\n",
    "        \n",
    "        # Get accuracy in batches for memory limitations\n",
    "        test_batch_acc_total = 0\n",
    "        test_batch_count = 0\n",
    "        \n",
    "        for train_feature_batch, train_label_batch in helper.batch_features_labels(test_features, test_labels, batch_size):\n",
    "            test_batch_acc_total += sess.run(\n",
    "                loaded_acc,\n",
    "                feed_dict={loaded_x: train_feature_batch, loaded_y: train_label_batch, loaded_keep_prob: 1.0})\n",
    "            test_batch_count += 1\n",
    "\n",
    "        print('Testing Accuracy: {}\\n'.format(test_batch_acc_total/test_batch_count))\n",
    "\n",
    "        # Print Random Samples\n",
    "        random_test_features, random_test_labels = tuple(zip(*random.sample(list(zip(test_features, test_labels)), n_samples)))\n",
    "        random_test_predictions = sess.run(\n",
    "            tf.nn.top_k(tf.nn.softmax(loaded_logits), top_n_predictions),\n",
    "            feed_dict={loaded_x: random_test_features, loaded_y: random_test_labels, loaded_keep_prob: 1.0})\n",
    "        helper.display_image_predictions(random_test_features, random_test_labels, random_test_predictions)\n",
    "\n",
    "\n",
    "test_model()"
   ]
  },
  {
   "cell_type": "markdown",
   "metadata": {},
   "source": []
  }
 ],
 "metadata": {
  "kernelspec": {
   "display_name": "Python 3",
   "language": "python",
   "name": "python3"
  },
  "language_info": {
   "codemirror_mode": {
    "name": "ipython",
    "version": 3
   },
   "file_extension": ".py",
   "mimetype": "text/x-python",
   "name": "python",
   "nbconvert_exporter": "python",
   "pygments_lexer": "ipython3",
   "version": "3.5.3"
  }
 },
 "nbformat": 4,
 "nbformat_minor": 0
}
