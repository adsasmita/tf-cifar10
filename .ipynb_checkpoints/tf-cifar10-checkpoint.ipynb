{
 "cells": [
  {
   "cell_type": "markdown",
   "metadata": {
    "collapsed": true
   },
   "source": [
    "# TensorFlow Image Classification for CIFAR-10 Dataset\n",
    "\n",
    "This project classifies images from the [CIFAR-10 dataset](https://www.cs.toronto.edu/~kriz/cifar.html).  The dataset consists of airplanes, dogs, cats, and other objects. First, we will preprocess the images, then we train a convolutional neural network on all the samples. The images need to be normalized and the labels need to be one-hot encoded.\n",
    "\n",
    "![title](img/cifar10-1.png)\n",
    "\n",
    "This code builds combination of convolutional neural network, max pooling, dropout, and fully connected layers.  At the end, there will be a test on the neural network's predictions on sample images.\n",
    "\n",
    "![title](img/cifar10-3.png)\n",
    "\n",
    "## Get the Data\n",
    "\n",
    "This following cell downloads the [CIFAR-10 dataset for python](https://www.cs.toronto.edu/~kriz/cifar-10-python.tar.gz)."
   ]
  },
  {
   "cell_type": "code",
   "execution_count": 1,
   "metadata": {
    "collapsed": false
   },
   "outputs": [
    {
     "name": "stdout",
     "output_type": "stream",
     "text": [
      "All files found!\n"
     ]
    }
   ],
   "source": [
    "from urllib.request import urlretrieve\n",
    "from os.path import isfile, isdir\n",
    "from tqdm import tqdm\n",
    "import problem_unittests as tests\n",
    "import tarfile\n",
    "\n",
    "cifar10_dataset_folder_path = 'cifar-10-batches-py'\n",
    "\n",
    "class DLProgress(tqdm):\n",
    "    last_block = 0\n",
    "\n",
    "    def hook(self, block_num=1, block_size=1, total_size=None):\n",
    "        self.total = total_size\n",
    "        self.update((block_num - self.last_block) * block_size)\n",
    "        self.last_block = block_num\n",
    "\n",
    "if not isfile('cifar-10-python.tar.gz'):\n",
    "    with DLProgress(unit='B', unit_scale=True, miniters=1, desc='CIFAR-10 Dataset') as pbar:\n",
    "        urlretrieve(\n",
    "            'https://www.cs.toronto.edu/~kriz/cifar-10-python.tar.gz',\n",
    "            'cifar-10-python.tar.gz',\n",
    "            pbar.hook)\n",
    "\n",
    "if not isdir(cifar10_dataset_folder_path):\n",
    "    with tarfile.open('cifar-10-python.tar.gz') as tar:\n",
    "        tar.extractall()\n",
    "        tar.close()\n",
    "\n",
    "\n",
    "tests.test_folder_path(cifar10_dataset_folder_path)"
   ]
  },
  {
   "cell_type": "markdown",
   "metadata": {},
   "source": [
    "## Explore the Data\n",
    "\n",
    "The dataset is broken into batches to prevent our machine from running out of memory.  The CIFAR-10 dataset consists of 5 batches, named `data_batch_1`, `data_batch_2`, etc.. Each batch contains the labels and images that are one of the following:\n",
    "* airplane\n",
    "* automobile\n",
    "* bird\n",
    "* cat\n",
    "* deer\n",
    "* dog\n",
    "* frog\n",
    "* horse\n",
    "* ship\n",
    "* truck\n",
    "\n",
    "![title](img/cifar10-2.png)\n",
    "\n",
    "The `batch_id` is the id for a batch (1-5). The `sample_id` is the id for a image and label pair in the batch.\n"
   ]
  },
  {
   "cell_type": "code",
   "execution_count": 2,
   "metadata": {
    "collapsed": false
   },
   "outputs": [
    {
     "name": "stdout",
     "output_type": "stream",
     "text": [
      "\n",
      "Stats of batch 1:\n",
      "Samples: 10000\n",
      "Label Counts: {0: 1005, 1: 974, 2: 1032, 3: 1016, 4: 999, 5: 937, 6: 1030, 7: 1001, 8: 1025, 9: 981}\n",
      "First 20 Labels: [6, 9, 9, 4, 1, 1, 2, 7, 8, 3, 4, 7, 7, 2, 9, 9, 9, 3, 2, 6]\n",
      "\n",
      "Example of Image 5:\n",
      "Image - Min Value: 0 Max Value: 252\n",
      "Image - Shape: (32, 32, 3)\n",
      "Label - Label Id: 1 Name: automobile\n"
     ]
    },
    {
     "data": {
      "image/png": "[encoded data removed]",
      "text/plain": [
       "<matplotlib.figure.Figure at 0x7fc37bc940b8>"
      ]
     },
     "metadata": {
      "image/png": {
       "height": 250,
       "width": 253
      }
     },
     "output_type": "display_data"
    }
   ],
   "source": [
    "%matplotlib inline\n",
    "%config InlineBackend.figure_format = 'retina'\n",
    "\n",
    "import helper\n",
    "import numpy as np\n",
    "\n",
    "# Explore the dataset\n",
    "batch_id = 1\n",
    "sample_id = 5\n",
    "helper.display_stats(cifar10_dataset_folder_path, batch_id, sample_id)"
   ]
  },
  {
   "cell_type": "markdown",
   "metadata": {},
   "source": [
    "## Implement Preprocess Functions\n",
    "### Normalize\n",
    "\n",
    "The cell below has `normalize` function to take in image data, `x`, and return it as a normalized Numpy array. The values should be in the range of 0 to 1, inclusive.  The return object should be the same shape as `x`."
   ]
  },
  {
   "cell_type": "code",
   "execution_count": 3,
   "metadata": {
    "collapsed": false
   },
   "outputs": [
    {
     "name": "stdout",
     "output_type": "stream",
     "text": [
      "Tests Passed\n"
     ]
    }
   ],
   "source": [
    "def normalize(x):\n",
    "    \"\"\"\n",
    "    Normalize a list of sample image data in the range of 0 to 1\n",
    "    : x: List of image data.  The image shape is (32, 32, 3)\n",
    "    : return: Numpy array of normalize data\n",
    "    \"\"\"\n",
    "    x = x.astype('float32')\n",
    "    x /= 255.0\n",
    "    return x\n",
    "\n",
    "\n",
    "tests.test_normalize(normalize)"
   ]
  },
  {
   "cell_type": "markdown",
   "metadata": {},
   "source": [
    "### One-hot encode\n",
    "\n",
    "The input, `x`, are a list of labels.  The function returns the list of labels as One-Hot encoded Numpy array.  The possible values for labels are 0 to 9. The one-hot encoding function should return the same encoding for each value between each call to `one_hot_encode`.\n"
   ]
  },
  {
   "cell_type": "code",
   "execution_count": 4,
   "metadata": {
    "collapsed": false
   },
   "outputs": [
    {
     "name": "stdout",
     "output_type": "stream",
     "text": [
      "Tests Passed\n"
     ]
    }
   ],
   "source": [
    "def one_hot_encode(x):\n",
    "    \"\"\"\n",
    "    One hot encode a list of sample labels. Return a one-hot encoded vector for each label.\n",
    "    : x: List of sample Labels\n",
    "    : return: Numpy array of one-hot encoded labels\n",
    "    \"\"\"\n",
    "    n_labels = 10\n",
    "    return np.eye(n_labels)[x]\n",
    "\n",
    "\n",
    "tests.test_one_hot_encode(one_hot_encode)"
   ]
  },
  {
   "cell_type": "markdown",
   "metadata": {},
   "source": [
    "## Preprocess all the data and save it\n",
    "Running the code cell below will preprocess all the CIFAR-10 data and save it to file. The code below also uses 10% of the training data for validation."
   ]
  },
  {
   "cell_type": "code",
   "execution_count": 5,
   "metadata": {
    "collapsed": false
   },
   "outputs": [],
   "source": [
    "# Preprocess Training, Validation, and Testing Data\n",
    "helper.preprocess_and_save_data(cifar10_dataset_folder_path, normalize, one_hot_encode)"
   ]
  },
  {
   "cell_type": "markdown",
   "metadata": {},
   "source": [
    "# Check Point\n",
    "\n",
    "This is our first checkpoint. The preprocessed data has been saved to disk."
   ]
  },
  {
   "cell_type": "code",
   "execution_count": 6,
   "metadata": {
    "collapsed": true
   },
   "outputs": [],
   "source": [
    "import pickle\n",
    "import problem_unittests as tests\n",
    "import helper\n",
    "\n",
    "# Load the Preprocessed Validation data\n",
    "valid_features, valid_labels = pickle.load(open('preprocess_validation.p', mode='rb'))"
   ]
  },
  {
   "cell_type": "markdown",
   "metadata": {},
   "source": [
    "## Build the network\n",
    "\n",
    "![title](img/cnn1.png)\n",
    "\n",
    "### Input\n",
    "The neural network needs to read the image data, one-hot encoded labels, and dropout keep probability.\n"
   ]
  },
  {
   "cell_type": "code",
   "execution_count": 7,
   "metadata": {
    "collapsed": false
   },
   "outputs": [
    {
     "name": "stdout",
     "output_type": "stream",
     "text": [
      "Image Input Tests Passed.\n",
      "Label Input Tests Passed.\n",
      "Keep Prob Tests Passed.\n"
     ]
    }
   ],
   "source": [
    "import tensorflow as tf\n",
    "\n",
    "def neural_net_image_input(image_shape):\n",
    "    \"\"\"\n",
    "    Return a Tensor for a bach of image input\n",
    "    : image_shape: Shape of the images\n",
    "    : return: Tensor for image input.\n",
    "    \"\"\"\n",
    "\n",
    "    return tf.placeholder(tf.float32, shape = [None, *image_shape], name = \"x\")\n",
    "\n",
    "\n",
    "def neural_net_label_input(n_classes):\n",
    "    \"\"\"\n",
    "    Return a Tensor for a batch of label input\n",
    "    : n_classes: Number of classes\n",
    "    : return: Tensor for label input.\n",
    "    \"\"\"\n",
    "\n",
    "    return tf.placeholder(tf.float32, [None, n_classes], name = \"y\")\n",
    "\n",
    "\n",
    "def neural_net_keep_prob_input():\n",
    "    \"\"\"\n",
    "    Return a Tensor for keep probability\n",
    "    : return: Tensor for keep probability.\n",
    "    \"\"\"\n",
    "\n",
    "    return tf.placeholder(tf.float32, name = \"keep_prob\")\n",
    "\n",
    "\n",
    "\n",
    "tf.reset_default_graph()\n",
    "tests.test_nn_image_inputs(neural_net_image_input)\n",
    "tests.test_nn_label_inputs(neural_net_label_input)\n",
    "tests.test_nn_keep_prob_inputs(neural_net_keep_prob_input)"
   ]
  },
  {
   "cell_type": "markdown",
   "metadata": {},
   "source": [
    "### Convolution and Max Pooling Layer\n"
   ]
  },
  {
   "cell_type": "code",
   "execution_count": 8,
   "metadata": {
    "collapsed": false,
    "scrolled": false
   },
   "outputs": [
    {
     "name": "stdout",
     "output_type": "stream",
     "text": [
      "Tests Passed\n"
     ]
    }
   ],
   "source": [
    "def conv2d_maxpool(x_tensor, conv_num_outputs, conv_ksize, conv_strides, pool_ksize, pool_strides):\n",
    "    \"\"\"\n",
    "    Apply convolution then max pooling to x_tensor\n",
    "    :param x_tensor: TensorFlow Tensor\n",
    "    :param conv_num_outputs: Number of outputs for the convolutional layer\n",
    "    :param conv_strides: Stride 2-D Tuple for convolution\n",
    "    :param pool_ksize: kernal size 2-D Tuple for pool\n",
    "    :param pool_strides: Stride 2-D Tuple for pool\n",
    "    : return: A tensor that represents convolution and max pooling of x_tensor\n",
    "    \"\"\"\n",
    "    weights = tf.Variable(tf.truncated_normal([*conv_ksize, x_tensor.get_shape().as_list()[-1], conv_num_outputs]\n",
    "                                             , stddev=.1), dtype=tf.float32)\n",
    "                          \n",
    "                          \n",
    "    bias = tf.Variable(tf.random_normal(shape=[conv_num_outputs]))\n",
    "\n",
    "    layer = tf.nn.conv2d(input=x_tensor, filter=weights, strides=[1, *conv_strides, 1], padding='SAME')\n",
    "    layer = tf.nn.bias_add(layer, bias)\n",
    "\n",
    "    layer = tf.nn.relu(layer)\n",
    "    layer = tf.nn.max_pool(layer, ksize=[1, pool_ksize[0], pool_ksize[1], 1]\n",
    "                           , strides=[1, pool_strides[0], pool_strides[1], 1], padding='SAME')\n",
    "\n",
    "    return layer\n",
    "\n",
    "\n",
    "tests.test_con_pool(conv2d_maxpool)\n"
   ]
  },
  {
   "cell_type": "markdown",
   "metadata": {},
   "source": [
    "### Flatten Layer\n"
   ]
  },
  {
   "cell_type": "code",
   "execution_count": 9,
   "metadata": {
    "collapsed": false
   },
   "outputs": [
    {
     "name": "stdout",
     "output_type": "stream",
     "text": [
      "Tests Passed\n"
     ]
    }
   ],
   "source": [
    "def flatten(x_tensor):\n",
    "    \"\"\"\n",
    "    Flatten x_tensor to (Batch Size, Flattened Image Size)\n",
    "    : x_tensor: A tensor of size (Batch Size, ...), where ... are the image dimensions.\n",
    "    : return: A tensor of size (Batch Size, Flattened Image Size).\n",
    "    \"\"\"\n",
    "\n",
    "    return tf.contrib.layers.flatten(x_tensor)\n",
    "\n",
    "\n",
    "tests.test_flatten(flatten)"
   ]
  },
  {
   "cell_type": "markdown",
   "metadata": {},
   "source": [
    "### Fully-Connected Layer\n"
   ]
  },
  {
   "cell_type": "code",
   "execution_count": 10,
   "metadata": {
    "collapsed": false
   },
   "outputs": [
    {
     "name": "stdout",
     "output_type": "stream",
     "text": [
      "Tests Passed\n"
     ]
    }
   ],
   "source": [
    "def fully_conn(x_tensor, num_outputs):\n",
    "    \"\"\"\n",
    "    Apply a fully connected layer to x_tensor using weight and bias\n",
    "    : x_tensor: A 2-D tensor where the first dimension is batch size.\n",
    "    : num_outputs: The number of output that the new tensor should be.\n",
    "    : return: A 2-D tensor where the second dimension is num_outputs.\n",
    "    \"\"\"  \n",
    "    fully_weight = tf.Variable(tf.truncated_normal(shape=[num_outputs, num_outputs], stddev=0.1), dtype=tf.float32)\n",
    "    fully_bias = tf.Variable(tf.random_normal(shape=[num_outputs]))\n",
    "\n",
    "    fully_layer = tf.contrib.layers.fully_connected(x_tensor, num_outputs)\n",
    "    fully_layer = tf.add(tf.matmul(fully_layer, fully_weight), fully_bias)\n",
    "\n",
    "    fully_layer = tf.nn.relu(fully_layer)\n",
    "    return fully_layer\n",
    "\n",
    "\n",
    "tests.test_fully_conn(fully_conn)"
   ]
  },
  {
   "cell_type": "markdown",
   "metadata": {},
   "source": [
    "### Output Layer\n"
   ]
  },
  {
   "cell_type": "code",
   "execution_count": 11,
   "metadata": {
    "collapsed": false
   },
   "outputs": [
    {
     "name": "stdout",
     "output_type": "stream",
     "text": [
      "Tests Passed\n"
     ]
    }
   ],
   "source": [
    "def output(x_tensor, num_outputs):\n",
    "    \"\"\"\n",
    "    Apply a output layer to x_tensor using weight and bias\n",
    "    : x_tensor: A 2-D tensor where the first dimension is batch size.\n",
    "    : num_outputs: The number of output that the new tensor should be.\n",
    "    : return: A 2-D tensor where the second dimension is num_outputs.\n",
    "    \"\"\"\n",
    "    out_weight = tf.Variable(tf.truncated_normal(shape=[num_outputs, num_outputs], stddev=0.1), dtype=tf.float32)\n",
    "    out_bias = tf.Variable(tf.random_normal(shape=[num_outputs]))\n",
    "    out_layer = tf.contrib.layers.fully_connected(x_tensor, num_outputs)\n",
    "    out_layer = tf.add(tf.matmul(out_layer, out_weight), out_bias)\n",
    "\n",
    "    return out_layer\n",
    "\n",
    "\n",
    "tests.test_output(output)"
   ]
  },
  {
   "cell_type": "markdown",
   "metadata": {},
   "source": [
    "### Create Convolutional Model\n",
    "\n",
    "![title](img/cnn2.png)\n"
   ]
  },
  {
   "cell_type": "code",
   "execution_count": 12,
   "metadata": {
    "collapsed": false
   },
   "outputs": [
    {
     "name": "stdout",
     "output_type": "stream",
     "text": [
      "Neural Network Built!\n"
     ]
    }
   ],
   "source": [
    "def conv_net(x, keep_prob):\n",
    "\n",
    "    x_tensor = x\n",
    "\n",
    "    conv_num_outputs1 = 64\n",
    "    conv_num_outputs2 = 256\n",
    "\n",
    "    conv_ksize = (4,4)\n",
    "    conv_strides = (2,2)\n",
    "    pool_ksize = (2,2)\n",
    "    pool_strides = (2,2)\n",
    "\n",
    "    conv = conv2d_maxpool (x_tensor, conv_num_outputs1, conv_ksize, conv_strides, pool_ksize, pool_strides)\n",
    "    conv = conv2d_maxpool (conv, conv_num_outputs2, conv_ksize, conv_strides, pool_ksize, pool_strides)\n",
    "    conv = tf.nn.dropout (conv, tf.to_float(keep_prob))\n",
    "    flat = flatten(conv)\n",
    "\n",
    "    fc = fully_conn(flat, 500)\n",
    "    fc = fully_conn(fc, 100)\n",
    "\n",
    "    output_data = output(fc, 10)\n",
    "\n",
    "    return output_data\n",
    "\n",
    "\n",
    "\n",
    "##############################\n",
    "## Build the Neural Network ##\n",
    "##############################\n",
    "\n",
    "# Remove previous weights, bias, inputs, etc..\n",
    "tf.reset_default_graph()\n",
    "\n",
    "# Inputs\n",
    "x = neural_net_image_input((32, 32, 3))\n",
    "y = neural_net_label_input(10)\n",
    "keep_prob = neural_net_keep_prob_input()\n",
    "\n",
    "# Model\n",
    "logits = conv_net(x, keep_prob)\n",
    "\n",
    "# Name logits Tensor, so that is can be loaded from disk after training\n",
    "logits = tf.identity(logits, name='logits')\n",
    "\n",
    "# Loss and Optimizer\n",
    "cost = tf.reduce_mean(tf.nn.softmax_cross_entropy_with_logits(logits=logits, labels=y))\n",
    "optimizer = tf.train.AdamOptimizer().minimize(cost)\n",
    "\n",
    "# Accuracy\n",
    "correct_pred = tf.equal(tf.argmax(logits, 1), tf.argmax(y, 1))\n",
    "accuracy = tf.reduce_mean(tf.cast(correct_pred, tf.float32), name='accuracy')\n",
    "\n",
    "tests.test_conv_net(conv_net)"
   ]
  },
  {
   "cell_type": "markdown",
   "metadata": {},
   "source": [
    "## Train the Neural Network\n",
    "\n",
    "### Single Optimization\n",
    "\n",
    "The function `train_neural_network` processes single optimization. This function will be called for each batch, so `tf.global_variables_initializer()` has already been called. This function is only optimizing the neural network."
   ]
  },
  {
   "cell_type": "code",
   "execution_count": 13,
   "metadata": {
    "collapsed": false
   },
   "outputs": [
    {
     "name": "stdout",
     "output_type": "stream",
     "text": [
      "Tests Passed\n"
     ]
    }
   ],
   "source": [
    "def train_neural_network(session, optimizer, keep_probability, feature_batch, label_batch):\n",
    "    \"\"\"\n",
    "    Optimize the session on a batch of images and labels\n",
    "    : session: Current TensorFlow session\n",
    "    : optimizer: TensorFlow optimizer function\n",
    "    : keep_probability: keep probability\n",
    "    : feature_batch: Batch of Numpy image data\n",
    "    : label_batch: Batch of Numpy label data\n",
    "    \"\"\"\n",
    "\n",
    "    session.run(optimizer, feed_dict={x: feature_batch, y: label_batch, keep_prob: keep_probability})\n",
    "\n",
    "\n",
    "\n",
    "tests.test_train_nn(train_neural_network)"
   ]
  },
  {
   "cell_type": "markdown",
   "metadata": {},
   "source": [
    "### Show Stats\n",
    "\n",
    "The function `print_stats` prints loss and validation accuracy. The global variables `valid_features` and `valid_labels` are used to calculate validation accuracy."
   ]
  },
  {
   "cell_type": "code",
   "execution_count": 14,
   "metadata": {
    "collapsed": true
   },
   "outputs": [],
   "source": [
    "def print_stats(session, feature_batch, label_batch, cost, accuracy):\n",
    "    \n",
    "    loss = session.run(cost, feed_dict={x: feature_batch, y: label_batch, keep_prob: 1.0})\n",
    "    accuracy = session.run(accuracy, feed_dict={x: valid_features, y: valid_labels, keep_prob: 1.0})\n",
    "    print(\"Loss: {}\".format(loss))\n",
    "    print(\"Accuracy: {}\".format(accuracy))"
   ]
  },
  {
   "cell_type": "markdown",
   "metadata": {},
   "source": [
    "### Hyperparameters"
   ]
  },
  {
   "cell_type": "code",
   "execution_count": 15,
   "metadata": {
    "collapsed": true
   },
   "outputs": [],
   "source": [
    "# Tune Parameters\n",
    "epochs = 50\n",
    "batch_size = 512\n",
    "keep_probability = 0.50"
   ]
  },
  {
   "cell_type": "markdown",
   "metadata": {},
   "source": [
    "### Train on a Single CIFAR-10 Batch\n",
    "\n",
    "Instead of training the neural network on all the CIFAR-10 batches of data, we use a single batch. This should save time while we iterate on the model to get a better accuracy.\n"
   ]
  },
  {
   "cell_type": "code",
   "execution_count": 16,
   "metadata": {
    "collapsed": false
   },
   "outputs": [
    {
     "name": "stdout",
     "output_type": "stream",
     "text": [
      "Checking the Training on a Single Batch...\n",
      "Epoch  1, CIFAR-10 Batch 1:  Loss: 2.499795913696289\n",
      "Accuracy: 0.09679999947547913\n",
      "Epoch  2, CIFAR-10 Batch 1:  Loss: 2.3455216884613037\n",
      "Accuracy: 0.13339999318122864\n",
      "Epoch  3, CIFAR-10 Batch 1:  Loss: 2.2477424144744873\n",
      "Accuracy: 0.1940000057220459\n",
      "Epoch  4, CIFAR-10 Batch 1:  Loss: 2.1626174449920654\n",
      "Accuracy: 0.25220000743865967\n",
      "Epoch  5, CIFAR-10 Batch 1:  Loss: 2.1185576915740967\n",
      "Accuracy: 0.23759999871253967\n",
      "Epoch  6, CIFAR-10 Batch 1:  Loss: 2.0641672611236572\n",
      "Accuracy: 0.27079999446868896\n",
      "Epoch  7, CIFAR-10 Batch 1:  Loss: 1.9926741123199463\n",
      "Accuracy: 0.27619999647140503\n",
      "Epoch  8, CIFAR-10 Batch 1:  Loss: 1.8448045253753662\n",
      "Accuracy: 0.31040000915527344\n",
      "Epoch  9, CIFAR-10 Batch 1:  Loss: 1.7810887098312378\n",
      "Accuracy: 0.33059999346733093\n",
      "Epoch 10, CIFAR-10 Batch 1:  Loss: 1.731288194656372\n",
      "Accuracy: 0.36480000615119934\n",
      "Epoch 11, CIFAR-10 Batch 1:  Loss: 1.6707772016525269\n",
      "Accuracy: 0.38179999589920044\n",
      "Epoch 12, CIFAR-10 Batch 1:  Loss: 1.6478766202926636\n",
      "Accuracy: 0.37940001487731934\n",
      "Epoch 13, CIFAR-10 Batch 1:  Loss: 1.574819564819336\n",
      "Accuracy: 0.4074000120162964\n",
      "Epoch 14, CIFAR-10 Batch 1:  Loss: 1.5523130893707275\n",
      "Accuracy: 0.412200003862381\n",
      "Epoch 15, CIFAR-10 Batch 1:  Loss: 1.5098627805709839\n",
      "Accuracy: 0.4203999936580658\n",
      "Epoch 16, CIFAR-10 Batch 1:  Loss: 1.4815126657485962\n",
      "Accuracy: 0.4212000072002411\n",
      "Epoch 17, CIFAR-10 Batch 1:  Loss: 1.4482966661453247\n",
      "Accuracy: 0.430400013923645\n",
      "Epoch 18, CIFAR-10 Batch 1:  Loss: 1.4103599786758423\n",
      "Accuracy: 0.43860000371932983\n",
      "Epoch 19, CIFAR-10 Batch 1:  Loss: 1.329716682434082\n",
      "Accuracy: 0.4521999955177307\n",
      "Epoch 20, CIFAR-10 Batch 1:  Loss: 1.3045297861099243\n",
      "Accuracy: 0.4593999981880188\n",
      "Epoch 21, CIFAR-10 Batch 1:  Loss: 1.264828085899353\n",
      "Accuracy: 0.46720001101493835\n",
      "Epoch 22, CIFAR-10 Batch 1:  Loss: 1.2185922861099243\n",
      "Accuracy: 0.4729999899864197\n",
      "Epoch 23, CIFAR-10 Batch 1:  Loss: 1.21132493019104\n",
      "Accuracy: 0.47380000352859497\n",
      "Epoch 24, CIFAR-10 Batch 1:  Loss: 1.1731160879135132\n",
      "Accuracy: 0.4832000136375427\n",
      "Epoch 25, CIFAR-10 Batch 1:  Loss: 1.1114215850830078\n",
      "Accuracy: 0.490200012922287\n",
      "Epoch 26, CIFAR-10 Batch 1:  Loss: 1.0672680139541626\n",
      "Accuracy: 0.49900001287460327\n",
      "Epoch 27, CIFAR-10 Batch 1:  Loss: 1.0733163356781006\n",
      "Accuracy: 0.4869999885559082\n",
      "Epoch 28, CIFAR-10 Batch 1:  Loss: 1.0334672927856445\n",
      "Accuracy: 0.4927999973297119\n",
      "Epoch 29, CIFAR-10 Batch 1:  Loss: 1.00567626953125\n",
      "Accuracy: 0.49300000071525574\n",
      "Epoch 30, CIFAR-10 Batch 1:  Loss: 0.9459459185600281\n",
      "Accuracy: 0.5041999816894531\n",
      "Epoch 31, CIFAR-10 Batch 1:  Loss: 0.9338542819023132\n",
      "Accuracy: 0.4984000027179718\n",
      "Epoch 32, CIFAR-10 Batch 1:  Loss: 0.8775640726089478\n",
      "Accuracy: 0.5041999816894531\n",
      "Epoch 33, CIFAR-10 Batch 1:  Loss: 0.8704543113708496\n",
      "Accuracy: 0.5058000087738037\n",
      "Epoch 34, CIFAR-10 Batch 1:  Loss: 0.8172361850738525\n",
      "Accuracy: 0.498199999332428\n",
      "Epoch 35, CIFAR-10 Batch 1:  Loss: 0.7706320285797119\n",
      "Accuracy: 0.5199999809265137\n",
      "Epoch 36, CIFAR-10 Batch 1:  Loss: 0.7792786359786987\n",
      "Accuracy: 0.5144000053405762\n",
      "Epoch 37, CIFAR-10 Batch 1:  Loss: 0.748628556728363\n",
      "Accuracy: 0.5206000208854675\n",
      "Epoch 38, CIFAR-10 Batch 1:  Loss: 0.6969141364097595\n",
      "Accuracy: 0.5302000045776367\n",
      "Epoch 39, CIFAR-10 Batch 1:  Loss: 0.6575139760971069\n",
      "Accuracy: 0.5266000032424927\n",
      "Epoch 40, CIFAR-10 Batch 1:  Loss: 0.6230130791664124\n",
      "Accuracy: 0.5320000052452087\n",
      "Epoch 41, CIFAR-10 Batch 1:  Loss: 0.5956695675849915\n",
      "Accuracy: 0.52920001745224\n",
      "Epoch 42, CIFAR-10 Batch 1:  Loss: 0.584276020526886\n",
      "Accuracy: 0.5230000019073486\n",
      "Epoch 43, CIFAR-10 Batch 1:  Loss: 0.5432140231132507\n",
      "Accuracy: 0.5315999984741211\n",
      "Epoch 44, CIFAR-10 Batch 1:  Loss: 0.5117605924606323\n",
      "Accuracy: 0.5383999943733215\n",
      "Epoch 45, CIFAR-10 Batch 1:  Loss: 0.5021182894706726\n",
      "Accuracy: 0.5400000214576721\n",
      "Epoch 46, CIFAR-10 Batch 1:  Loss: 0.4743223488330841\n",
      "Accuracy: 0.5303999781608582\n",
      "Epoch 47, CIFAR-10 Batch 1:  Loss: 0.48457449674606323\n",
      "Accuracy: 0.5220000147819519\n",
      "Epoch 48, CIFAR-10 Batch 1:  Loss: 0.44777998328208923\n",
      "Accuracy: 0.5249999761581421\n",
      "Epoch 49, CIFAR-10 Batch 1:  Loss: 0.42917588353157043\n",
      "Accuracy: 0.5365999937057495\n",
      "Epoch 50, CIFAR-10 Batch 1:  Loss: 0.3921531140804291\n",
      "Accuracy: 0.5289999842643738\n"
     ]
    }
   ],
   "source": [
    "print('Checking the Training on a Single Batch...')\n",
    "with tf.Session() as sess:\n",
    "    # Initializing the variables\n",
    "    sess.run(tf.global_variables_initializer())\n",
    "    \n",
    "    # Training cycle\n",
    "    for epoch in range(epochs):\n",
    "        batch_i = 1\n",
    "        for batch_features, batch_labels in helper.load_preprocess_training_batch(batch_i, batch_size):\n",
    "            train_neural_network(sess, optimizer, keep_probability, batch_features, batch_labels)\n",
    "        print('Epoch {:>2}, CIFAR-10 Batch {}:  '.format(epoch + 1, batch_i), end='')\n",
    "        print_stats(sess, batch_features, batch_labels, cost, accuracy)"
   ]
  },
  {
   "cell_type": "markdown",
   "metadata": {},
   "source": [
    "### Fully Train the Model\n",
    "\n",
    "Now that we have a good accuracy (greater than 50%) with a single CIFAR-10 batch, let's try it with all five batches."
   ]
  },
  {
   "cell_type": "code",
   "execution_count": 17,
   "metadata": {
    "collapsed": false,
    "scrolled": false
   },
   "outputs": [
    {
     "name": "stdout",
     "output_type": "stream",
     "text": [
      "Training...\n",
      "Epoch  1, CIFAR-10 Batch 1:  Loss: 2.3443448543548584\n",
      "Accuracy: 0.09700000286102295\n",
      "Epoch  1, CIFAR-10 Batch 2:  Loss: 2.2980077266693115\n",
      "Accuracy: 0.11020000278949738\n",
      "Epoch  1, CIFAR-10 Batch 3:  Loss: 2.2124688625335693\n",
      "Accuracy: 0.16500000655651093\n",
      "Epoch  1, CIFAR-10 Batch 4:  Loss: 2.127612590789795\n",
      "Accuracy: 0.17759999632835388\n",
      "Epoch  1, CIFAR-10 Batch 5:  Loss: 2.1151299476623535\n",
      "Accuracy: 0.18960000574588776\n",
      "Epoch  2, CIFAR-10 Batch 1:  Loss: 2.14520263671875\n",
      "Accuracy: 0.1860000044107437\n",
      "Epoch  2, CIFAR-10 Batch 2:  Loss: 2.089681625366211\n",
      "Accuracy: 0.19499999284744263\n",
      "Epoch  2, CIFAR-10 Batch 3:  Loss: 1.9939970970153809\n",
      "Accuracy: 0.22660000622272491\n",
      "Epoch  2, CIFAR-10 Batch 4:  Loss: 1.9321902990341187\n",
      "Accuracy: 0.2305999994277954\n",
      "Epoch  2, CIFAR-10 Batch 5:  Loss: 1.9270765781402588\n",
      "Accuracy: 0.26739999651908875\n",
      "Epoch  3, CIFAR-10 Batch 1:  Loss: 1.9183369874954224\n",
      "Accuracy: 0.30399999022483826\n",
      "Epoch  3, CIFAR-10 Batch 2:  Loss: 1.8441888093948364\n",
      "Accuracy: 0.31439998745918274\n",
      "Epoch  3, CIFAR-10 Batch 3:  Loss: 1.7090940475463867\n",
      "Accuracy: 0.3296000063419342\n",
      "Epoch  3, CIFAR-10 Batch 4:  Loss: 1.7048296928405762\n",
      "Accuracy: 0.3578000068664551\n",
      "Epoch  3, CIFAR-10 Batch 5:  Loss: 1.7372702360153198\n",
      "Accuracy: 0.3752000033855438\n",
      "Epoch  4, CIFAR-10 Batch 1:  Loss: 1.7751948833465576\n",
      "Accuracy: 0.3741999864578247\n",
      "Epoch  4, CIFAR-10 Batch 2:  Loss: 1.64006769657135\n",
      "Accuracy: 0.3901999890804291\n",
      "Epoch  4, CIFAR-10 Batch 3:  Loss: 1.4867780208587646\n",
      "Accuracy: 0.39340001344680786\n",
      "Epoch  4, CIFAR-10 Batch 4:  Loss: 1.4859734773635864\n",
      "Accuracy: 0.4027999937534332\n",
      "Epoch  4, CIFAR-10 Batch 5:  Loss: 1.529720425605774\n",
      "Accuracy: 0.42320001125335693\n",
      "Epoch  5, CIFAR-10 Batch 1:  Loss: 1.6063295602798462\n",
      "Accuracy: 0.43459999561309814\n",
      "Epoch  5, CIFAR-10 Batch 2:  Loss: 1.5150779485702515\n",
      "Accuracy: 0.4564000070095062\n",
      "Epoch  5, CIFAR-10 Batch 3:  Loss: 1.3274389505386353\n",
      "Accuracy: 0.44279998540878296\n",
      "Epoch  5, CIFAR-10 Batch 4:  Loss: 1.3503544330596924\n",
      "Accuracy: 0.4602000117301941\n",
      "Epoch  5, CIFAR-10 Batch 5:  Loss: 1.3898181915283203\n",
      "Accuracy: 0.4641999900341034\n",
      "Epoch  6, CIFAR-10 Batch 1:  Loss: 1.5204241275787354\n",
      "Accuracy: 0.45399999618530273\n",
      "Epoch  6, CIFAR-10 Batch 2:  Loss: 1.4294850826263428\n",
      "Accuracy: 0.48260000348091125\n",
      "Epoch  6, CIFAR-10 Batch 3:  Loss: 1.248388648033142\n",
      "Accuracy: 0.4681999981403351\n",
      "Epoch  6, CIFAR-10 Batch 4:  Loss: 1.2810660600662231\n",
      "Accuracy: 0.4893999993801117\n",
      "Epoch  6, CIFAR-10 Batch 5:  Loss: 1.3329102993011475\n",
      "Accuracy: 0.48899999260902405\n",
      "Epoch  7, CIFAR-10 Batch 1:  Loss: 1.4042032957077026\n",
      "Accuracy: 0.504800021648407\n",
      "Epoch  7, CIFAR-10 Batch 2:  Loss: 1.4123023748397827\n",
      "Accuracy: 0.5052000284194946\n",
      "Epoch  7, CIFAR-10 Batch 3:  Loss: 1.144048810005188\n",
      "Accuracy: 0.5055999755859375\n",
      "Epoch  7, CIFAR-10 Batch 4:  Loss: 1.186123013496399\n",
      "Accuracy: 0.5153999924659729\n",
      "Epoch  7, CIFAR-10 Batch 5:  Loss: 1.2426280975341797\n",
      "Accuracy: 0.5174000263214111\n",
      "Epoch  8, CIFAR-10 Batch 1:  Loss: 1.3074532747268677\n",
      "Accuracy: 0.5296000242233276\n",
      "Epoch  8, CIFAR-10 Batch 2:  Loss: 1.3039451837539673\n",
      "Accuracy: 0.5220000147819519\n",
      "Epoch  8, CIFAR-10 Batch 3:  Loss: 1.0999951362609863\n",
      "Accuracy: 0.5248000025749207\n",
      "Epoch  8, CIFAR-10 Batch 4:  Loss: 1.1250545978546143\n",
      "Accuracy: 0.5285999774932861\n",
      "Epoch  8, CIFAR-10 Batch 5:  Loss: 1.1817325353622437\n",
      "Accuracy: 0.5353999733924866\n",
      "Epoch  9, CIFAR-10 Batch 1:  Loss: 1.2383543252944946\n",
      "Accuracy: 0.5473999977111816\n",
      "Epoch  9, CIFAR-10 Batch 2:  Loss: 1.228450059890747\n",
      "Accuracy: 0.5383999943733215\n",
      "Epoch  9, CIFAR-10 Batch 3:  Loss: 1.0400683879852295\n",
      "Accuracy: 0.5429999828338623\n",
      "Epoch  9, CIFAR-10 Batch 4:  Loss: 1.060764193534851\n",
      "Accuracy: 0.5491999983787537\n",
      "Epoch  9, CIFAR-10 Batch 5:  Loss: 1.1225885152816772\n",
      "Accuracy: 0.5454000234603882\n",
      "Epoch 10, CIFAR-10 Batch 1:  Loss: 1.2162227630615234\n",
      "Accuracy: 0.555400013923645\n",
      "Epoch 10, CIFAR-10 Batch 2:  Loss: 1.1720445156097412\n",
      "Accuracy: 0.557200014591217\n",
      "Epoch 10, CIFAR-10 Batch 3:  Loss: 1.0259244441986084\n",
      "Accuracy: 0.5515999794006348\n",
      "Epoch 10, CIFAR-10 Batch 4:  Loss: 1.010180115699768\n",
      "Accuracy: 0.5616000294685364\n",
      "Epoch 10, CIFAR-10 Batch 5:  Loss: 1.1073487997055054\n",
      "Accuracy: 0.5613999962806702\n",
      "Epoch 11, CIFAR-10 Batch 1:  Loss: 1.1506984233856201\n",
      "Accuracy: 0.5673999786376953\n",
      "Epoch 11, CIFAR-10 Batch 2:  Loss: 1.1318295001983643\n",
      "Accuracy: 0.5703999996185303\n",
      "Epoch 11, CIFAR-10 Batch 3:  Loss: 0.9690722823143005\n",
      "Accuracy: 0.5685999989509583\n",
      "Epoch 11, CIFAR-10 Batch 4:  Loss: 0.9383861422538757\n",
      "Accuracy: 0.5723999738693237\n",
      "Epoch 11, CIFAR-10 Batch 5:  Loss: 1.0505582094192505\n",
      "Accuracy: 0.5694000124931335\n",
      "Epoch 12, CIFAR-10 Batch 1:  Loss: 1.0965250730514526\n",
      "Accuracy: 0.5741999745368958\n",
      "Epoch 12, CIFAR-10 Batch 2:  Loss: 1.0566431283950806\n",
      "Accuracy: 0.5759999752044678\n",
      "Epoch 12, CIFAR-10 Batch 3:  Loss: 0.9293742775917053\n",
      "Accuracy: 0.5730000138282776\n",
      "Epoch 12, CIFAR-10 Batch 4:  Loss: 0.9012147188186646\n",
      "Accuracy: 0.5842000246047974\n",
      "Epoch 12, CIFAR-10 Batch 5:  Loss: 1.027235984802246\n",
      "Accuracy: 0.5759999752044678\n",
      "Epoch 13, CIFAR-10 Batch 1:  Loss: 1.0582813024520874\n",
      "Accuracy: 0.5748000144958496\n",
      "Epoch 13, CIFAR-10 Batch 2:  Loss: 1.0213571786880493\n",
      "Accuracy: 0.5896000266075134\n",
      "Epoch 13, CIFAR-10 Batch 3:  Loss: 0.8840521574020386\n",
      "Accuracy: 0.5812000036239624\n",
      "Epoch 13, CIFAR-10 Batch 4:  Loss: 0.8611128330230713\n",
      "Accuracy: 0.5910000205039978\n",
      "Epoch 13, CIFAR-10 Batch 5:  Loss: 0.9701073169708252\n",
      "Accuracy: 0.5821999907493591\n",
      "Epoch 14, CIFAR-10 Batch 1:  Loss: 1.012812852859497\n",
      "Accuracy: 0.597000002861023\n",
      "Epoch 14, CIFAR-10 Batch 2:  Loss: 1.0121779441833496\n",
      "Accuracy: 0.5932000279426575\n",
      "Epoch 14, CIFAR-10 Batch 3:  Loss: 0.8574277758598328\n",
      "Accuracy: 0.5893999934196472\n",
      "Epoch 14, CIFAR-10 Batch 4:  Loss: 0.8271198272705078\n",
      "Accuracy: 0.603600025177002\n",
      "Epoch 14, CIFAR-10 Batch 5:  Loss: 0.8838199973106384\n",
      "Accuracy: 0.5946000218391418\n",
      "Epoch 15, CIFAR-10 Batch 1:  Loss: 0.9633747935295105\n",
      "Accuracy: 0.5989999771118164\n",
      "Epoch 15, CIFAR-10 Batch 2:  Loss: 0.9602799415588379\n",
      "Accuracy: 0.5961999893188477\n",
      "Epoch 15, CIFAR-10 Batch 3:  Loss: 0.8331554532051086\n",
      "Accuracy: 0.5910000205039978\n",
      "Epoch 15, CIFAR-10 Batch 4:  Loss: 0.7891172170639038\n",
      "Accuracy: 0.6051999926567078\n",
      "Epoch 15, CIFAR-10 Batch 5:  Loss: 0.8760007619857788\n",
      "Accuracy: 0.6028000116348267\n",
      "Epoch 16, CIFAR-10 Batch 1:  Loss: 0.9363135099411011\n",
      "Accuracy: 0.5928000211715698\n",
      "Epoch 16, CIFAR-10 Batch 2:  Loss: 0.9334167242050171\n",
      "Accuracy: 0.5902000069618225\n",
      "Epoch 16, CIFAR-10 Batch 3:  Loss: 0.8033739328384399\n",
      "Accuracy: 0.6037999987602234\n",
      "Epoch 16, CIFAR-10 Batch 4:  Loss: 0.7686861157417297\n",
      "Accuracy: 0.6010000109672546\n",
      "Epoch 16, CIFAR-10 Batch 5:  Loss: 0.8345839381217957\n",
      "Accuracy: 0.5979999899864197\n",
      "Epoch 17, CIFAR-10 Batch 1:  Loss: 0.8739553689956665\n",
      "Accuracy: 0.6093999743461609\n",
      "Epoch 17, CIFAR-10 Batch 2:  Loss: 0.9107133746147156\n",
      "Accuracy: 0.5803999900817871\n",
      "Epoch 17, CIFAR-10 Batch 3:  Loss: 0.789756178855896\n",
      "Accuracy: 0.6100000143051147\n",
      "Epoch 17, CIFAR-10 Batch 4:  Loss: 0.7302253246307373\n",
      "Accuracy: 0.6055999994277954\n",
      "Epoch 17, CIFAR-10 Batch 5:  Loss: 0.7708469033241272\n",
      "Accuracy: 0.6119999885559082\n",
      "Epoch 18, CIFAR-10 Batch 1:  Loss: 0.8562772870063782\n",
      "Accuracy: 0.6029999852180481\n",
      "Epoch 18, CIFAR-10 Batch 2:  Loss: 0.8461266756057739\n",
      "Accuracy: 0.6001999974250793\n",
      "Epoch 18, CIFAR-10 Batch 3:  Loss: 0.7610166072845459\n",
      "Accuracy: 0.6137999892234802\n",
      "Epoch 18, CIFAR-10 Batch 4:  Loss: 0.692389190196991\n",
      "Accuracy: 0.6172000169754028\n",
      "Epoch 18, CIFAR-10 Batch 5:  Loss: 0.7404575943946838\n",
      "Accuracy: 0.6223999857902527\n",
      "Epoch 19, CIFAR-10 Batch 1:  Loss: 0.7929515838623047\n",
      "Accuracy: 0.6141999959945679\n",
      "Epoch 19, CIFAR-10 Batch 2:  Loss: 0.8366405367851257\n",
      "Accuracy: 0.590399980545044\n",
      "Epoch 19, CIFAR-10 Batch 3:  Loss: 0.7379310131072998\n",
      "Accuracy: 0.6197999715805054\n",
      "Epoch 19, CIFAR-10 Batch 4:  Loss: 0.6458001732826233\n",
      "Accuracy: 0.6222000122070312\n",
      "Epoch 19, CIFAR-10 Batch 5:  Loss: 0.7159452438354492\n",
      "Accuracy: 0.6119999885559082\n",
      "Epoch 20, CIFAR-10 Batch 1:  Loss: 0.7613126635551453\n",
      "Accuracy: 0.6191999912261963\n",
      "Epoch 20, CIFAR-10 Batch 2:  Loss: 0.7898736000061035\n",
      "Accuracy: 0.6043999791145325\n",
      "Epoch 20, CIFAR-10 Batch 3:  Loss: 0.7084654569625854\n",
      "Accuracy: 0.6248000264167786\n",
      "Epoch 20, CIFAR-10 Batch 4:  Loss: 0.6345453858375549\n",
      "Accuracy: 0.6226000189781189\n",
      "Epoch 20, CIFAR-10 Batch 5:  Loss: 0.7079988718032837\n",
      "Accuracy: 0.6200000047683716\n",
      "Epoch 21, CIFAR-10 Batch 1:  Loss: 0.7448453903198242\n",
      "Accuracy: 0.6159999966621399\n",
      "Epoch 21, CIFAR-10 Batch 2:  Loss: 0.75377357006073\n",
      "Accuracy: 0.6154000163078308\n",
      "Epoch 21, CIFAR-10 Batch 3:  Loss: 0.657238245010376\n",
      "Accuracy: 0.6281999945640564\n",
      "Epoch 21, CIFAR-10 Batch 4:  Loss: 0.5924290418624878\n",
      "Accuracy: 0.6291999816894531\n",
      "Epoch 21, CIFAR-10 Batch 5:  Loss: 0.6552841663360596\n",
      "Accuracy: 0.620199978351593\n",
      "Epoch 22, CIFAR-10 Batch 1:  Loss: 0.7151740193367004\n",
      "Accuracy: 0.629800021648407\n",
      "Epoch 22, CIFAR-10 Batch 2:  Loss: 0.7321588397026062\n",
      "Accuracy: 0.6161999702453613\n",
      "Epoch 22, CIFAR-10 Batch 3:  Loss: 0.6042385697364807\n",
      "Accuracy: 0.6362000107765198\n",
      "Epoch 22, CIFAR-10 Batch 4:  Loss: 0.5463904142379761\n",
      "Accuracy: 0.6340000033378601\n",
      "Epoch 22, CIFAR-10 Batch 5:  Loss: 0.6183519959449768\n",
      "Accuracy: 0.6284000277519226\n",
      "Epoch 23, CIFAR-10 Batch 1:  Loss: 0.6693078875541687\n",
      "Accuracy: 0.6340000033378601\n",
      "Epoch 23, CIFAR-10 Batch 2:  Loss: 0.6933603286743164\n",
      "Accuracy: 0.6182000041007996\n",
      "Epoch 23, CIFAR-10 Batch 3:  Loss: 0.5966587066650391\n",
      "Accuracy: 0.633400022983551\n",
      "Epoch 23, CIFAR-10 Batch 4:  Loss: 0.5120404362678528\n",
      "Accuracy: 0.6402000188827515\n",
      "Epoch 23, CIFAR-10 Batch 5:  Loss: 0.5960144996643066\n",
      "Accuracy: 0.629800021648407\n",
      "Epoch 24, CIFAR-10 Batch 1:  Loss: 0.6382064819335938\n",
      "Accuracy: 0.6308000087738037\n",
      "Epoch 24, CIFAR-10 Batch 2:  Loss: 0.6536725163459778\n",
      "Accuracy: 0.6218000054359436\n",
      "Epoch 24, CIFAR-10 Batch 3:  Loss: 0.5756399631500244\n",
      "Accuracy: 0.6381999850273132\n",
      "Epoch 24, CIFAR-10 Batch 4:  Loss: 0.5103248357772827\n",
      "Accuracy: 0.635200023651123\n",
      "Epoch 24, CIFAR-10 Batch 5:  Loss: 0.5974115133285522\n",
      "Accuracy: 0.6262000203132629\n",
      "Epoch 25, CIFAR-10 Batch 1:  Loss: 0.617617130279541\n",
      "Accuracy: 0.6320000290870667\n",
      "Epoch 25, CIFAR-10 Batch 2:  Loss: 0.6315731406211853\n",
      "Accuracy: 0.6295999884605408\n",
      "Epoch 25, CIFAR-10 Batch 3:  Loss: 0.5325798392295837\n",
      "Accuracy: 0.6403999924659729\n",
      "Epoch 25, CIFAR-10 Batch 4:  Loss: 0.49134835600852966\n",
      "Accuracy: 0.6420000195503235\n",
      "Epoch 25, CIFAR-10 Batch 5:  Loss: 0.5712186098098755\n",
      "Accuracy: 0.6187999844551086\n",
      "Epoch 26, CIFAR-10 Batch 1:  Loss: 0.5805695056915283\n",
      "Accuracy: 0.6394000053405762\n",
      "Epoch 26, CIFAR-10 Batch 2:  Loss: 0.5947054624557495\n",
      "Accuracy: 0.6359999775886536\n",
      "Epoch 26, CIFAR-10 Batch 3:  Loss: 0.5492371320724487\n",
      "Accuracy: 0.6208000183105469\n",
      "Epoch 26, CIFAR-10 Batch 4:  Loss: 0.464695543050766\n",
      "Accuracy: 0.6448000073432922\n",
      "Epoch 26, CIFAR-10 Batch 5:  Loss: 0.5272013545036316\n",
      "Accuracy: 0.6323999762535095\n",
      "Epoch 27, CIFAR-10 Batch 1:  Loss: 0.537028431892395\n",
      "Accuracy: 0.6448000073432922\n",
      "Epoch 27, CIFAR-10 Batch 2:  Loss: 0.6022687554359436\n",
      "Accuracy: 0.6277999877929688\n",
      "Epoch 27, CIFAR-10 Batch 3:  Loss: 0.5093439221382141\n",
      "Accuracy: 0.6373999714851379\n",
      "Epoch 27, CIFAR-10 Batch 4:  Loss: 0.4502994418144226\n",
      "Accuracy: 0.6398000121116638\n",
      "Epoch 27, CIFAR-10 Batch 5:  Loss: 0.4928742051124573\n",
      "Accuracy: 0.6462000012397766\n",
      "Epoch 28, CIFAR-10 Batch 1:  Loss: 0.5065358877182007\n",
      "Accuracy: 0.6430000066757202\n",
      "Epoch 28, CIFAR-10 Batch 2:  Loss: 0.5407673716545105\n",
      "Accuracy: 0.6431999802589417\n",
      "Epoch 28, CIFAR-10 Batch 3:  Loss: 0.4634639620780945\n",
      "Accuracy: 0.6407999992370605\n",
      "Epoch 28, CIFAR-10 Batch 4:  Loss: 0.4319058358669281\n",
      "Accuracy: 0.6377999782562256\n",
      "Epoch 28, CIFAR-10 Batch 5:  Loss: 0.4467567205429077\n",
      "Accuracy: 0.6416000127792358\n",
      "Epoch 29, CIFAR-10 Batch 1:  Loss: 0.4978874921798706\n",
      "Accuracy: 0.63919997215271\n",
      "Epoch 29, CIFAR-10 Batch 2:  Loss: 0.5298678278923035\n",
      "Accuracy: 0.6534000039100647\n",
      "Epoch 29, CIFAR-10 Batch 3:  Loss: 0.43959689140319824\n",
      "Accuracy: 0.6394000053405762\n",
      "Epoch 29, CIFAR-10 Batch 4:  Loss: 0.3998924493789673\n",
      "Accuracy: 0.6424000263214111\n",
      "Epoch 29, CIFAR-10 Batch 5:  Loss: 0.44846442341804504\n",
      "Accuracy: 0.6466000080108643\n",
      "Epoch 30, CIFAR-10 Batch 1:  Loss: 0.48648080229759216\n",
      "Accuracy: 0.6398000121116638\n",
      "Epoch 30, CIFAR-10 Batch 2:  Loss: 0.5251493453979492\n",
      "Accuracy: 0.646399974822998\n",
      "Epoch 30, CIFAR-10 Batch 3:  Loss: 0.44550198316574097\n",
      "Accuracy: 0.6442000269889832\n",
      "Epoch 30, CIFAR-10 Batch 4:  Loss: 0.37850886583328247\n",
      "Accuracy: 0.6480000019073486\n",
      "Epoch 30, CIFAR-10 Batch 5:  Loss: 0.40941867232322693\n",
      "Accuracy: 0.63919997215271\n",
      "Epoch 31, CIFAR-10 Batch 1:  Loss: 0.4462735950946808\n",
      "Accuracy: 0.6416000127792358\n",
      "Epoch 31, CIFAR-10 Batch 2:  Loss: 0.5057148933410645\n",
      "Accuracy: 0.6467999815940857\n",
      "Epoch 31, CIFAR-10 Batch 3:  Loss: 0.4217030107975006\n",
      "Accuracy: 0.6485999822616577\n",
      "Epoch 31, CIFAR-10 Batch 4:  Loss: 0.3661620616912842\n",
      "Accuracy: 0.640999972820282\n",
      "Epoch 31, CIFAR-10 Batch 5:  Loss: 0.4260641038417816\n",
      "Accuracy: 0.6258000135421753\n",
      "Epoch 32, CIFAR-10 Batch 1:  Loss: 0.42891258001327515\n",
      "Accuracy: 0.6430000066757202\n",
      "Epoch 32, CIFAR-10 Batch 2:  Loss: 0.45880401134490967\n",
      "Accuracy: 0.6420000195503235\n",
      "Epoch 32, CIFAR-10 Batch 3:  Loss: 0.39754825830459595\n",
      "Accuracy: 0.6480000019073486\n",
      "Epoch 32, CIFAR-10 Batch 4:  Loss: 0.34428462386131287\n",
      "Accuracy: 0.63919997215271\n",
      "Epoch 32, CIFAR-10 Batch 5:  Loss: 0.38881373405456543\n",
      "Accuracy: 0.6370000243186951\n",
      "Epoch 33, CIFAR-10 Batch 1:  Loss: 0.40973442792892456\n",
      "Accuracy: 0.6478000283241272\n",
      "Epoch 33, CIFAR-10 Batch 2:  Loss: 0.4538227915763855\n",
      "Accuracy: 0.6478000283241272\n",
      "Epoch 33, CIFAR-10 Batch 3:  Loss: 0.35017716884613037\n",
      "Accuracy: 0.6553999781608582\n",
      "Epoch 33, CIFAR-10 Batch 4:  Loss: 0.3241700232028961\n",
      "Accuracy: 0.6442000269889832\n",
      "Epoch 33, CIFAR-10 Batch 5:  Loss: 0.3836958706378937\n",
      "Accuracy: 0.6398000121116638\n",
      "Epoch 34, CIFAR-10 Batch 1:  Loss: 0.3909943103790283\n",
      "Accuracy: 0.6525999903678894\n",
      "Epoch 34, CIFAR-10 Batch 2:  Loss: 0.41569751501083374\n",
      "Accuracy: 0.6567999720573425\n",
      "Epoch 34, CIFAR-10 Batch 3:  Loss: 0.3387264013290405\n",
      "Accuracy: 0.6546000242233276\n",
      "Epoch 34, CIFAR-10 Batch 4:  Loss: 0.29525163769721985\n",
      "Accuracy: 0.6547999978065491\n",
      "Epoch 34, CIFAR-10 Batch 5:  Loss: 0.3440152108669281\n",
      "Accuracy: 0.6471999883651733\n",
      "Epoch 35, CIFAR-10 Batch 1:  Loss: 0.37258484959602356\n",
      "Accuracy: 0.6385999917984009\n",
      "Epoch 35, CIFAR-10 Batch 2:  Loss: 0.3907225430011749\n",
      "Accuracy: 0.6582000255584717\n",
      "Epoch 35, CIFAR-10 Batch 3:  Loss: 0.31468209624290466\n",
      "Accuracy: 0.65420001745224\n",
      "Epoch 35, CIFAR-10 Batch 4:  Loss: 0.2882407009601593\n",
      "Accuracy: 0.6517999768257141\n",
      "Epoch 35, CIFAR-10 Batch 5:  Loss: 0.32962578535079956\n",
      "Accuracy: 0.6412000060081482\n",
      "Epoch 36, CIFAR-10 Batch 1:  Loss: 0.33043283224105835\n",
      "Accuracy: 0.6557999849319458\n",
      "Epoch 36, CIFAR-10 Batch 2:  Loss: 0.345037043094635\n",
      "Accuracy: 0.6528000235557556\n",
      "Epoch 36, CIFAR-10 Batch 3:  Loss: 0.34179365634918213\n",
      "Accuracy: 0.6470000147819519\n",
      "Epoch 36, CIFAR-10 Batch 4:  Loss: 0.2879679799079895\n",
      "Accuracy: 0.6517999768257141\n",
      "Epoch 36, CIFAR-10 Batch 5:  Loss: 0.30961787700653076\n",
      "Accuracy: 0.6435999870300293\n",
      "Epoch 37, CIFAR-10 Batch 1:  Loss: 0.328486829996109\n",
      "Accuracy: 0.651199996471405\n",
      "Epoch 37, CIFAR-10 Batch 2:  Loss: 0.3460642397403717\n",
      "Accuracy: 0.6525999903678894\n",
      "Epoch 37, CIFAR-10 Batch 3:  Loss: 0.3154788911342621\n",
      "Accuracy: 0.651199996471405\n",
      "Epoch 37, CIFAR-10 Batch 4:  Loss: 0.26730433106422424\n",
      "Accuracy: 0.6499999761581421\n",
      "Epoch 37, CIFAR-10 Batch 5:  Loss: 0.31001853942871094\n",
      "Accuracy: 0.6470000147819519\n",
      "Epoch 38, CIFAR-10 Batch 1:  Loss: 0.3016617000102997\n",
      "Accuracy: 0.6570000052452087\n",
      "Epoch 38, CIFAR-10 Batch 2:  Loss: 0.32527512311935425\n",
      "Accuracy: 0.6593999862670898\n",
      "Epoch 38, CIFAR-10 Batch 3:  Loss: 0.28201523423194885\n",
      "Accuracy: 0.6588000059127808\n",
      "Epoch 38, CIFAR-10 Batch 4:  Loss: 0.2407752424478531\n",
      "Accuracy: 0.6488000154495239\n",
      "Epoch 38, CIFAR-10 Batch 5:  Loss: 0.29140499234199524\n",
      "Accuracy: 0.6353999972343445\n",
      "Epoch 39, CIFAR-10 Batch 1:  Loss: 0.2903222143650055\n",
      "Accuracy: 0.6549999713897705\n",
      "Epoch 39, CIFAR-10 Batch 2:  Loss: 0.299492746591568\n",
      "Accuracy: 0.6600000262260437\n",
      "Epoch 39, CIFAR-10 Batch 3:  Loss: 0.31204405426979065\n",
      "Accuracy: 0.6485999822616577\n",
      "Epoch 39, CIFAR-10 Batch 4:  Loss: 0.2348579466342926\n",
      "Accuracy: 0.656000018119812\n",
      "Epoch 39, CIFAR-10 Batch 5:  Loss: 0.2737378776073456\n",
      "Accuracy: 0.6438000202178955\n",
      "Epoch 40, CIFAR-10 Batch 1:  Loss: 0.3262736201286316\n",
      "Accuracy: 0.6565999984741211\n",
      "Epoch 40, CIFAR-10 Batch 2:  Loss: 0.3018174469470978\n",
      "Accuracy: 0.651199996471405\n",
      "Epoch 40, CIFAR-10 Batch 3:  Loss: 0.25331011414527893\n",
      "Accuracy: 0.6636000275611877\n",
      "Epoch 40, CIFAR-10 Batch 4:  Loss: 0.21826998889446259\n",
      "Accuracy: 0.6489999890327454\n",
      "Epoch 40, CIFAR-10 Batch 5:  Loss: 0.28400909900665283\n",
      "Accuracy: 0.6420000195503235\n",
      "Epoch 41, CIFAR-10 Batch 1:  Loss: 0.26824259757995605\n",
      "Accuracy: 0.6556000113487244\n",
      "Epoch 41, CIFAR-10 Batch 2:  Loss: 0.2962261438369751\n",
      "Accuracy: 0.6628000140190125\n",
      "Epoch 41, CIFAR-10 Batch 3:  Loss: 0.23609772324562073\n",
      "Accuracy: 0.6636000275611877\n",
      "Epoch 41, CIFAR-10 Batch 4:  Loss: 0.21945355832576752\n",
      "Accuracy: 0.6543999910354614\n",
      "Epoch 41, CIFAR-10 Batch 5:  Loss: 0.2616613805294037\n",
      "Accuracy: 0.6474000215530396\n",
      "Epoch 42, CIFAR-10 Batch 1:  Loss: 0.27069273591041565\n",
      "Accuracy: 0.659600019454956\n",
      "Epoch 42, CIFAR-10 Batch 2:  Loss: 0.28263792395591736\n",
      "Accuracy: 0.6600000262260437\n",
      "Epoch 42, CIFAR-10 Batch 3:  Loss: 0.23859483003616333\n",
      "Accuracy: 0.6588000059127808\n",
      "Epoch 42, CIFAR-10 Batch 4:  Loss: 0.21264056861400604\n",
      "Accuracy: 0.65420001745224\n",
      "Epoch 42, CIFAR-10 Batch 5:  Loss: 0.23326167464256287\n",
      "Accuracy: 0.6516000032424927\n",
      "Epoch 43, CIFAR-10 Batch 1:  Loss: 0.24432140588760376\n",
      "Accuracy: 0.6675999760627747\n",
      "Epoch 43, CIFAR-10 Batch 2:  Loss: 0.26038235425949097\n",
      "Accuracy: 0.6629999876022339\n",
      "Epoch 43, CIFAR-10 Batch 3:  Loss: 0.22329019010066986\n",
      "Accuracy: 0.6618000268936157\n",
      "Epoch 43, CIFAR-10 Batch 4:  Loss: 0.18980193138122559\n",
      "Accuracy: 0.6607999801635742\n",
      "Epoch 43, CIFAR-10 Batch 5:  Loss: 0.22916150093078613\n",
      "Accuracy: 0.6471999883651733\n",
      "Epoch 44, CIFAR-10 Batch 1:  Loss: 0.21241532266139984\n",
      "Accuracy: 0.6636000275611877\n",
      "Epoch 44, CIFAR-10 Batch 2:  Loss: 0.23458699882030487\n",
      "Accuracy: 0.6704000234603882\n",
      "Epoch 44, CIFAR-10 Batch 3:  Loss: 0.19194380939006805\n",
      "Accuracy: 0.6675999760627747\n",
      "Epoch 44, CIFAR-10 Batch 4:  Loss: 0.1801583170890808\n",
      "Accuracy: 0.6606000065803528\n",
      "Epoch 44, CIFAR-10 Batch 5:  Loss: 0.21777501702308655\n",
      "Accuracy: 0.6514000296592712\n",
      "Epoch 45, CIFAR-10 Batch 1:  Loss: 0.225551575422287\n",
      "Accuracy: 0.6632000207901001\n",
      "Epoch 45, CIFAR-10 Batch 2:  Loss: 0.22843177616596222\n",
      "Accuracy: 0.6632000207901001\n",
      "Epoch 45, CIFAR-10 Batch 3:  Loss: 0.20586785674095154\n",
      "Accuracy: 0.6625999808311462\n",
      "Epoch 45, CIFAR-10 Batch 4:  Loss: 0.17287559807300568\n",
      "Accuracy: 0.6592000126838684\n",
      "Epoch 45, CIFAR-10 Batch 5:  Loss: 0.19903531670570374\n",
      "Accuracy: 0.6528000235557556\n",
      "Epoch 46, CIFAR-10 Batch 1:  Loss: 0.21191954612731934\n",
      "Accuracy: 0.6588000059127808\n",
      "Epoch 46, CIFAR-10 Batch 2:  Loss: 0.2185015082359314\n",
      "Accuracy: 0.6611999869346619\n",
      "Epoch 46, CIFAR-10 Batch 3:  Loss: 0.19529226422309875\n",
      "Accuracy: 0.6657999753952026\n",
      "Epoch 46, CIFAR-10 Batch 4:  Loss: 0.1675698310136795\n",
      "Accuracy: 0.6600000262260437\n",
      "Epoch 46, CIFAR-10 Batch 5:  Loss: 0.18777023255825043\n",
      "Accuracy: 0.6492000222206116\n",
      "Epoch 47, CIFAR-10 Batch 1:  Loss: 0.19017070531845093\n",
      "Accuracy: 0.6615999937057495\n",
      "Epoch 47, CIFAR-10 Batch 2:  Loss: 0.21348530054092407\n",
      "Accuracy: 0.6692000031471252\n",
      "Epoch 47, CIFAR-10 Batch 3:  Loss: 0.1760956346988678\n",
      "Accuracy: 0.6669999957084656\n",
      "Epoch 47, CIFAR-10 Batch 4:  Loss: 0.15073677897453308\n",
      "Accuracy: 0.6574000120162964\n",
      "Epoch 47, CIFAR-10 Batch 5:  Loss: 0.18648084998130798\n",
      "Accuracy: 0.6601999998092651\n",
      "Epoch 48, CIFAR-10 Batch 1:  Loss: 0.18813306093215942\n",
      "Accuracy: 0.6660000085830688\n",
      "Epoch 48, CIFAR-10 Batch 2:  Loss: 0.21735817193984985\n",
      "Accuracy: 0.6661999821662903\n",
      "Epoch 48, CIFAR-10 Batch 3:  Loss: 0.1700504869222641\n",
      "Accuracy: 0.6692000031471252\n",
      "Epoch 48, CIFAR-10 Batch 4:  Loss: 0.15287187695503235\n",
      "Accuracy: 0.6601999998092651\n",
      "Epoch 48, CIFAR-10 Batch 5:  Loss: 0.17643003165721893\n",
      "Accuracy: 0.6574000120162964\n",
      "Epoch 49, CIFAR-10 Batch 1:  Loss: 0.18913598358631134\n",
      "Accuracy: 0.6629999876022339\n",
      "Epoch 49, CIFAR-10 Batch 2:  Loss: 0.20878608524799347\n",
      "Accuracy: 0.6553999781608582\n",
      "Epoch 49, CIFAR-10 Batch 3:  Loss: 0.16110579669475555\n",
      "Accuracy: 0.6633999943733215\n",
      "Epoch 49, CIFAR-10 Batch 4:  Loss: 0.13633915781974792\n",
      "Accuracy: 0.6618000268936157\n",
      "Epoch 49, CIFAR-10 Batch 5:  Loss: 0.1679053157567978\n",
      "Accuracy: 0.6629999876022339\n",
      "Epoch 50, CIFAR-10 Batch 1:  Loss: 0.17920556664466858\n",
      "Accuracy: 0.6620000004768372\n",
      "Epoch 50, CIFAR-10 Batch 2:  Loss: 0.19783230125904083\n",
      "Accuracy: 0.6654000282287598\n",
      "Epoch 50, CIFAR-10 Batch 3:  Loss: 0.16399657726287842\n",
      "Accuracy: 0.6610000133514404\n",
      "Epoch 50, CIFAR-10 Batch 4:  Loss: 0.13944146037101746\n",
      "Accuracy: 0.6603999733924866\n",
      "Epoch 50, CIFAR-10 Batch 5:  Loss: 0.16703884303569794\n",
      "Accuracy: 0.6638000011444092\n"
     ]
    }
   ],
   "source": [
    "save_model_path = './image_classification'\n",
    "\n",
    "print('Training...')\n",
    "with tf.Session() as sess:\n",
    "    # Initializing the variables\n",
    "    sess.run(tf.global_variables_initializer())\n",
    "    \n",
    "    # Training cycle\n",
    "    for epoch in range(epochs):\n",
    "        # Loop over all batches\n",
    "        n_batches = 5\n",
    "        for batch_i in range(1, n_batches + 1):\n",
    "            for batch_features, batch_labels in helper.load_preprocess_training_batch(batch_i, batch_size):\n",
    "                train_neural_network(sess, optimizer, keep_probability, batch_features, batch_labels)\n",
    "            print('Epoch {:>2}, CIFAR-10 Batch {}:  '.format(epoch + 1, batch_i), end='')\n",
    "            print_stats(sess, batch_features, batch_labels, cost, accuracy)\n",
    "            \n",
    "    # Save Model\n",
    "    saver = tf.train.Saver()\n",
    "    save_path = saver.save(sess, save_model_path)"
   ]
  },
  {
   "cell_type": "markdown",
   "metadata": {},
   "source": [
    "# Checkpoint\n",
    "\n",
    "The model has been saved to disk.\n",
    "\n",
    "## Test Model\n",
    "\n",
    "Let's now test the model against the test dataset.  This will be our final accuracy.\n"
   ]
  },
  {
   "cell_type": "code",
   "execution_count": 18,
   "metadata": {
    "collapsed": false,
    "scrolled": false
   },
   "outputs": [
    {
     "name": "stdout",
     "output_type": "stream",
     "text": [
      "Testing Accuracy: 0.6674000471830368\n",
      "\n"
     ]
    },
    {
     "data": {
      "image/png": "[encoded data removed]",
      "text/plain": [
       "<matplotlib.figure.Figure at 0x7fc33ada60f0>"
      ]
     },
     "metadata": {
      "image/png": {
       "height": 319,
       "width": 355
      }
     },
     "output_type": "display_data"
    }
   ],
   "source": [
    "%matplotlib inline\n",
    "%config InlineBackend.figure_format = 'retina'\n",
    "\n",
    "import tensorflow as tf\n",
    "import pickle\n",
    "import helper\n",
    "import random\n",
    "\n",
    "# Set batch size if not already set\n",
    "try:\n",
    "    if batch_size:\n",
    "        pass\n",
    "except NameError:\n",
    "    batch_size = 64\n",
    "\n",
    "save_model_path = './image_classification'\n",
    "n_samples = 4\n",
    "top_n_predictions = 3\n",
    "\n",
    "def test_model():\n",
    "    \"\"\"\n",
    "    Test the saved model against the test dataset\n",
    "    \"\"\"\n",
    "\n",
    "    test_features, test_labels = pickle.load(open('preprocess_training.p', mode='rb'))\n",
    "    loaded_graph = tf.Graph()\n",
    "\n",
    "    with tf.Session(graph=loaded_graph) as sess:\n",
    "        # Load model\n",
    "        loader = tf.train.import_meta_graph(save_model_path + '.meta')\n",
    "        loader.restore(sess, save_model_path)\n",
    "\n",
    "        # Get Tensors from loaded model\n",
    "        loaded_x = loaded_graph.get_tensor_by_name('x:0')\n",
    "        loaded_y = loaded_graph.get_tensor_by_name('y:0')\n",
    "        loaded_keep_prob = loaded_graph.get_tensor_by_name('keep_prob:0')\n",
    "        loaded_logits = loaded_graph.get_tensor_by_name('logits:0')\n",
    "        loaded_acc = loaded_graph.get_tensor_by_name('accuracy:0')\n",
    "        \n",
    "        # Get accuracy in batches for memory limitations\n",
    "        test_batch_acc_total = 0\n",
    "        test_batch_count = 0\n",
    "        \n",
    "        for train_feature_batch, train_label_batch in helper.batch_features_labels(test_features, test_labels, batch_size):\n",
    "            test_batch_acc_total += sess.run(\n",
    "                loaded_acc,\n",
    "                feed_dict={loaded_x: train_feature_batch, loaded_y: train_label_batch, loaded_keep_prob: 1.0})\n",
    "            test_batch_count += 1\n",
    "\n",
    "        print('Testing Accuracy: {}\\n'.format(test_batch_acc_total/test_batch_count))\n",
    "\n",
    "        # Print Random Samples\n",
    "        random_test_features, random_test_labels = tuple(zip(*random.sample(list(zip(test_features, test_labels)), n_samples)))\n",
    "        random_test_predictions = sess.run(\n",
    "            tf.nn.top_k(tf.nn.softmax(loaded_logits), top_n_predictions),\n",
    "            feed_dict={loaded_x: random_test_features, loaded_y: random_test_labels, loaded_keep_prob: 1.0})\n",
    "        helper.display_image_predictions(random_test_features, random_test_labels, random_test_predictions)\n",
    "\n",
    "\n",
    "test_model()"
   ]
  },
  {
   "cell_type": "markdown",
   "metadata": {},
   "source": [
    "The final accuracy is about 67%, which is much better than pure guessing (pure guessing on CIFAR-10 dataset will stochastically yield 10% accuracy)."
   ]
  },
  {
   "cell_type": "markdown",
   "metadata": {},
   "source": []
  }
 ],
 "metadata": {
  "kernelspec": {
   "display_name": "Python 3",
   "language": "python",
   "name": "python3"
  },
  "language_info": {
   "codemirror_mode": {
    "name": "ipython",
    "version": 3
   },
   "file_extension": ".py",
   "mimetype": "text/x-python",
   "name": "python",
   "nbconvert_exporter": "python",
   "pygments_lexer": "ipython3",
   "version": "3.5.3"
  }
 },
 "nbformat": 4,
 "nbformat_minor": 0
}
